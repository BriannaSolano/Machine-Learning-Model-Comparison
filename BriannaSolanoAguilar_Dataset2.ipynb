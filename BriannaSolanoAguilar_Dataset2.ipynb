{
  "nbformat": 4,
  "nbformat_minor": 0,
  "metadata": {
    "colab": {
      "name": "BriannaSolanoAguilar_Dataset2.ipynb",
      "provenance": [],
      "collapsed_sections": []
    },
    "kernelspec": {
      "name": "python3",
      "display_name": "Python 3"
    },
    "language_info": {
      "name": "python"
    }
  },
  "cells": [
    {
      "cell_type": "code",
      "execution_count": 36,
      "metadata": {
        "id": "vv7b-XhXiRz4"
      },
      "outputs": [],
      "source": [
        "#Brianna Solano Aguilar\n",
        "#Machine Learning for Engineers Final Product\n",
        "#Housing Dataset\n",
        "##################################################################"
      ]
    },
    {
      "cell_type": "code",
      "source": [
        "#importing libarires for models\n",
        "from matplotlib import pyplot\n",
        "import numpy as np\n",
        "import tensorflow as tf\n",
        "import pandas as pd\n",
        "import seaborn as sns\n",
        "from scipy import stats\n",
        "from sklearn.decomposition import PCA"
      ],
      "metadata": {
        "id": "eWRLTXQ6ifI-"
      },
      "execution_count": 37,
      "outputs": []
    },
    {
      "cell_type": "markdown",
      "source": [
        "# Part A\n",
        "\n",
        "\n",
        "---\n",
        "\n"
      ],
      "metadata": {
        "id": "apuCqlpyaK4Q"
      }
    },
    {
      "cell_type": "code",
      "source": [
        "dftrain = pd.read_csv ('housing_train.csv')\n",
        "dftrain"
      ],
      "metadata": {
        "colab": {
          "base_uri": "https://localhost:8080/",
          "height": 488
        },
        "id": "WlM2uYpCifXY",
        "outputId": "82355ac9-8cd5-441e-819b-28ef4ec7dd02"
      },
      "execution_count": 38,
      "outputs": [
        {
          "output_type": "execute_result",
          "data": {
            "text/plain": [
              "        Id  MSSubClass MSZoning  LotFrontage  LotArea Street Alley LotShape  \\\n",
              "0        1          60       RL         65.0     8450   Pave   NaN      Reg   \n",
              "1        2          20       RL         80.0     9600   Pave   NaN      Reg   \n",
              "2        3          60       RL         68.0    11250   Pave   NaN      IR1   \n",
              "3        4          70       RL         60.0     9550   Pave   NaN      IR1   \n",
              "4        5          60       RL         84.0    14260   Pave   NaN      IR1   \n",
              "...    ...         ...      ...          ...      ...    ...   ...      ...   \n",
              "1455  1456          60       RL         62.0     7917   Pave   NaN      Reg   \n",
              "1456  1457          20       RL         85.0    13175   Pave   NaN      Reg   \n",
              "1457  1458          70       RL         66.0     9042   Pave   NaN      Reg   \n",
              "1458  1459          20       RL         68.0     9717   Pave   NaN      Reg   \n",
              "1459  1460          20       RL         75.0     9937   Pave   NaN      Reg   \n",
              "\n",
              "     LandContour Utilities  ... PoolArea PoolQC  Fence MiscFeature MiscVal  \\\n",
              "0            Lvl    AllPub  ...        0    NaN    NaN         NaN       0   \n",
              "1            Lvl    AllPub  ...        0    NaN    NaN         NaN       0   \n",
              "2            Lvl    AllPub  ...        0    NaN    NaN         NaN       0   \n",
              "3            Lvl    AllPub  ...        0    NaN    NaN         NaN       0   \n",
              "4            Lvl    AllPub  ...        0    NaN    NaN         NaN       0   \n",
              "...          ...       ...  ...      ...    ...    ...         ...     ...   \n",
              "1455         Lvl    AllPub  ...        0    NaN    NaN         NaN       0   \n",
              "1456         Lvl    AllPub  ...        0    NaN  MnPrv         NaN       0   \n",
              "1457         Lvl    AllPub  ...        0    NaN  GdPrv        Shed    2500   \n",
              "1458         Lvl    AllPub  ...        0    NaN    NaN         NaN       0   \n",
              "1459         Lvl    AllPub  ...        0    NaN    NaN         NaN       0   \n",
              "\n",
              "     MoSold YrSold  SaleType  SaleCondition  SalePrice  \n",
              "0         2   2008        WD         Normal     208500  \n",
              "1         5   2007        WD         Normal     181500  \n",
              "2         9   2008        WD         Normal     223500  \n",
              "3         2   2006        WD        Abnorml     140000  \n",
              "4        12   2008        WD         Normal     250000  \n",
              "...     ...    ...       ...            ...        ...  \n",
              "1455      8   2007        WD         Normal     175000  \n",
              "1456      2   2010        WD         Normal     210000  \n",
              "1457      5   2010        WD         Normal     266500  \n",
              "1458      4   2010        WD         Normal     142125  \n",
              "1459      6   2008        WD         Normal     147500  \n",
              "\n",
              "[1460 rows x 81 columns]"
            ],
            "text/html": [
              "\n",
              "  <div id=\"df-be05e1c0-f26f-4dd8-843d-a636dae7a0ce\">\n",
              "    <div class=\"colab-df-container\">\n",
              "      <div>\n",
              "<style scoped>\n",
              "    .dataframe tbody tr th:only-of-type {\n",
              "        vertical-align: middle;\n",
              "    }\n",
              "\n",
              "    .dataframe tbody tr th {\n",
              "        vertical-align: top;\n",
              "    }\n",
              "\n",
              "    .dataframe thead th {\n",
              "        text-align: right;\n",
              "    }\n",
              "</style>\n",
              "<table border=\"1\" class=\"dataframe\">\n",
              "  <thead>\n",
              "    <tr style=\"text-align: right;\">\n",
              "      <th></th>\n",
              "      <th>Id</th>\n",
              "      <th>MSSubClass</th>\n",
              "      <th>MSZoning</th>\n",
              "      <th>LotFrontage</th>\n",
              "      <th>LotArea</th>\n",
              "      <th>Street</th>\n",
              "      <th>Alley</th>\n",
              "      <th>LotShape</th>\n",
              "      <th>LandContour</th>\n",
              "      <th>Utilities</th>\n",
              "      <th>...</th>\n",
              "      <th>PoolArea</th>\n",
              "      <th>PoolQC</th>\n",
              "      <th>Fence</th>\n",
              "      <th>MiscFeature</th>\n",
              "      <th>MiscVal</th>\n",
              "      <th>MoSold</th>\n",
              "      <th>YrSold</th>\n",
              "      <th>SaleType</th>\n",
              "      <th>SaleCondition</th>\n",
              "      <th>SalePrice</th>\n",
              "    </tr>\n",
              "  </thead>\n",
              "  <tbody>\n",
              "    <tr>\n",
              "      <th>0</th>\n",
              "      <td>1</td>\n",
              "      <td>60</td>\n",
              "      <td>RL</td>\n",
              "      <td>65.0</td>\n",
              "      <td>8450</td>\n",
              "      <td>Pave</td>\n",
              "      <td>NaN</td>\n",
              "      <td>Reg</td>\n",
              "      <td>Lvl</td>\n",
              "      <td>AllPub</td>\n",
              "      <td>...</td>\n",
              "      <td>0</td>\n",
              "      <td>NaN</td>\n",
              "      <td>NaN</td>\n",
              "      <td>NaN</td>\n",
              "      <td>0</td>\n",
              "      <td>2</td>\n",
              "      <td>2008</td>\n",
              "      <td>WD</td>\n",
              "      <td>Normal</td>\n",
              "      <td>208500</td>\n",
              "    </tr>\n",
              "    <tr>\n",
              "      <th>1</th>\n",
              "      <td>2</td>\n",
              "      <td>20</td>\n",
              "      <td>RL</td>\n",
              "      <td>80.0</td>\n",
              "      <td>9600</td>\n",
              "      <td>Pave</td>\n",
              "      <td>NaN</td>\n",
              "      <td>Reg</td>\n",
              "      <td>Lvl</td>\n",
              "      <td>AllPub</td>\n",
              "      <td>...</td>\n",
              "      <td>0</td>\n",
              "      <td>NaN</td>\n",
              "      <td>NaN</td>\n",
              "      <td>NaN</td>\n",
              "      <td>0</td>\n",
              "      <td>5</td>\n",
              "      <td>2007</td>\n",
              "      <td>WD</td>\n",
              "      <td>Normal</td>\n",
              "      <td>181500</td>\n",
              "    </tr>\n",
              "    <tr>\n",
              "      <th>2</th>\n",
              "      <td>3</td>\n",
              "      <td>60</td>\n",
              "      <td>RL</td>\n",
              "      <td>68.0</td>\n",
              "      <td>11250</td>\n",
              "      <td>Pave</td>\n",
              "      <td>NaN</td>\n",
              "      <td>IR1</td>\n",
              "      <td>Lvl</td>\n",
              "      <td>AllPub</td>\n",
              "      <td>...</td>\n",
              "      <td>0</td>\n",
              "      <td>NaN</td>\n",
              "      <td>NaN</td>\n",
              "      <td>NaN</td>\n",
              "      <td>0</td>\n",
              "      <td>9</td>\n",
              "      <td>2008</td>\n",
              "      <td>WD</td>\n",
              "      <td>Normal</td>\n",
              "      <td>223500</td>\n",
              "    </tr>\n",
              "    <tr>\n",
              "      <th>3</th>\n",
              "      <td>4</td>\n",
              "      <td>70</td>\n",
              "      <td>RL</td>\n",
              "      <td>60.0</td>\n",
              "      <td>9550</td>\n",
              "      <td>Pave</td>\n",
              "      <td>NaN</td>\n",
              "      <td>IR1</td>\n",
              "      <td>Lvl</td>\n",
              "      <td>AllPub</td>\n",
              "      <td>...</td>\n",
              "      <td>0</td>\n",
              "      <td>NaN</td>\n",
              "      <td>NaN</td>\n",
              "      <td>NaN</td>\n",
              "      <td>0</td>\n",
              "      <td>2</td>\n",
              "      <td>2006</td>\n",
              "      <td>WD</td>\n",
              "      <td>Abnorml</td>\n",
              "      <td>140000</td>\n",
              "    </tr>\n",
              "    <tr>\n",
              "      <th>4</th>\n",
              "      <td>5</td>\n",
              "      <td>60</td>\n",
              "      <td>RL</td>\n",
              "      <td>84.0</td>\n",
              "      <td>14260</td>\n",
              "      <td>Pave</td>\n",
              "      <td>NaN</td>\n",
              "      <td>IR1</td>\n",
              "      <td>Lvl</td>\n",
              "      <td>AllPub</td>\n",
              "      <td>...</td>\n",
              "      <td>0</td>\n",
              "      <td>NaN</td>\n",
              "      <td>NaN</td>\n",
              "      <td>NaN</td>\n",
              "      <td>0</td>\n",
              "      <td>12</td>\n",
              "      <td>2008</td>\n",
              "      <td>WD</td>\n",
              "      <td>Normal</td>\n",
              "      <td>250000</td>\n",
              "    </tr>\n",
              "    <tr>\n",
              "      <th>...</th>\n",
              "      <td>...</td>\n",
              "      <td>...</td>\n",
              "      <td>...</td>\n",
              "      <td>...</td>\n",
              "      <td>...</td>\n",
              "      <td>...</td>\n",
              "      <td>...</td>\n",
              "      <td>...</td>\n",
              "      <td>...</td>\n",
              "      <td>...</td>\n",
              "      <td>...</td>\n",
              "      <td>...</td>\n",
              "      <td>...</td>\n",
              "      <td>...</td>\n",
              "      <td>...</td>\n",
              "      <td>...</td>\n",
              "      <td>...</td>\n",
              "      <td>...</td>\n",
              "      <td>...</td>\n",
              "      <td>...</td>\n",
              "      <td>...</td>\n",
              "    </tr>\n",
              "    <tr>\n",
              "      <th>1455</th>\n",
              "      <td>1456</td>\n",
              "      <td>60</td>\n",
              "      <td>RL</td>\n",
              "      <td>62.0</td>\n",
              "      <td>7917</td>\n",
              "      <td>Pave</td>\n",
              "      <td>NaN</td>\n",
              "      <td>Reg</td>\n",
              "      <td>Lvl</td>\n",
              "      <td>AllPub</td>\n",
              "      <td>...</td>\n",
              "      <td>0</td>\n",
              "      <td>NaN</td>\n",
              "      <td>NaN</td>\n",
              "      <td>NaN</td>\n",
              "      <td>0</td>\n",
              "      <td>8</td>\n",
              "      <td>2007</td>\n",
              "      <td>WD</td>\n",
              "      <td>Normal</td>\n",
              "      <td>175000</td>\n",
              "    </tr>\n",
              "    <tr>\n",
              "      <th>1456</th>\n",
              "      <td>1457</td>\n",
              "      <td>20</td>\n",
              "      <td>RL</td>\n",
              "      <td>85.0</td>\n",
              "      <td>13175</td>\n",
              "      <td>Pave</td>\n",
              "      <td>NaN</td>\n",
              "      <td>Reg</td>\n",
              "      <td>Lvl</td>\n",
              "      <td>AllPub</td>\n",
              "      <td>...</td>\n",
              "      <td>0</td>\n",
              "      <td>NaN</td>\n",
              "      <td>MnPrv</td>\n",
              "      <td>NaN</td>\n",
              "      <td>0</td>\n",
              "      <td>2</td>\n",
              "      <td>2010</td>\n",
              "      <td>WD</td>\n",
              "      <td>Normal</td>\n",
              "      <td>210000</td>\n",
              "    </tr>\n",
              "    <tr>\n",
              "      <th>1457</th>\n",
              "      <td>1458</td>\n",
              "      <td>70</td>\n",
              "      <td>RL</td>\n",
              "      <td>66.0</td>\n",
              "      <td>9042</td>\n",
              "      <td>Pave</td>\n",
              "      <td>NaN</td>\n",
              "      <td>Reg</td>\n",
              "      <td>Lvl</td>\n",
              "      <td>AllPub</td>\n",
              "      <td>...</td>\n",
              "      <td>0</td>\n",
              "      <td>NaN</td>\n",
              "      <td>GdPrv</td>\n",
              "      <td>Shed</td>\n",
              "      <td>2500</td>\n",
              "      <td>5</td>\n",
              "      <td>2010</td>\n",
              "      <td>WD</td>\n",
              "      <td>Normal</td>\n",
              "      <td>266500</td>\n",
              "    </tr>\n",
              "    <tr>\n",
              "      <th>1458</th>\n",
              "      <td>1459</td>\n",
              "      <td>20</td>\n",
              "      <td>RL</td>\n",
              "      <td>68.0</td>\n",
              "      <td>9717</td>\n",
              "      <td>Pave</td>\n",
              "      <td>NaN</td>\n",
              "      <td>Reg</td>\n",
              "      <td>Lvl</td>\n",
              "      <td>AllPub</td>\n",
              "      <td>...</td>\n",
              "      <td>0</td>\n",
              "      <td>NaN</td>\n",
              "      <td>NaN</td>\n",
              "      <td>NaN</td>\n",
              "      <td>0</td>\n",
              "      <td>4</td>\n",
              "      <td>2010</td>\n",
              "      <td>WD</td>\n",
              "      <td>Normal</td>\n",
              "      <td>142125</td>\n",
              "    </tr>\n",
              "    <tr>\n",
              "      <th>1459</th>\n",
              "      <td>1460</td>\n",
              "      <td>20</td>\n",
              "      <td>RL</td>\n",
              "      <td>75.0</td>\n",
              "      <td>9937</td>\n",
              "      <td>Pave</td>\n",
              "      <td>NaN</td>\n",
              "      <td>Reg</td>\n",
              "      <td>Lvl</td>\n",
              "      <td>AllPub</td>\n",
              "      <td>...</td>\n",
              "      <td>0</td>\n",
              "      <td>NaN</td>\n",
              "      <td>NaN</td>\n",
              "      <td>NaN</td>\n",
              "      <td>0</td>\n",
              "      <td>6</td>\n",
              "      <td>2008</td>\n",
              "      <td>WD</td>\n",
              "      <td>Normal</td>\n",
              "      <td>147500</td>\n",
              "    </tr>\n",
              "  </tbody>\n",
              "</table>\n",
              "<p>1460 rows × 81 columns</p>\n",
              "</div>\n",
              "      <button class=\"colab-df-convert\" onclick=\"convertToInteractive('df-be05e1c0-f26f-4dd8-843d-a636dae7a0ce')\"\n",
              "              title=\"Convert this dataframe to an interactive table.\"\n",
              "              style=\"display:none;\">\n",
              "        \n",
              "  <svg xmlns=\"http://www.w3.org/2000/svg\" height=\"24px\"viewBox=\"0 0 24 24\"\n",
              "       width=\"24px\">\n",
              "    <path d=\"M0 0h24v24H0V0z\" fill=\"none\"/>\n",
              "    <path d=\"M18.56 5.44l.94 2.06.94-2.06 2.06-.94-2.06-.94-.94-2.06-.94 2.06-2.06.94zm-11 1L8.5 8.5l.94-2.06 2.06-.94-2.06-.94L8.5 2.5l-.94 2.06-2.06.94zm10 10l.94 2.06.94-2.06 2.06-.94-2.06-.94-.94-2.06-.94 2.06-2.06.94z\"/><path d=\"M17.41 7.96l-1.37-1.37c-.4-.4-.92-.59-1.43-.59-.52 0-1.04.2-1.43.59L10.3 9.45l-7.72 7.72c-.78.78-.78 2.05 0 2.83L4 21.41c.39.39.9.59 1.41.59.51 0 1.02-.2 1.41-.59l7.78-7.78 2.81-2.81c.8-.78.8-2.07 0-2.86zM5.41 20L4 18.59l7.72-7.72 1.47 1.35L5.41 20z\"/>\n",
              "  </svg>\n",
              "      </button>\n",
              "      \n",
              "  <style>\n",
              "    .colab-df-container {\n",
              "      display:flex;\n",
              "      flex-wrap:wrap;\n",
              "      gap: 12px;\n",
              "    }\n",
              "\n",
              "    .colab-df-convert {\n",
              "      background-color: #E8F0FE;\n",
              "      border: none;\n",
              "      border-radius: 50%;\n",
              "      cursor: pointer;\n",
              "      display: none;\n",
              "      fill: #1967D2;\n",
              "      height: 32px;\n",
              "      padding: 0 0 0 0;\n",
              "      width: 32px;\n",
              "    }\n",
              "\n",
              "    .colab-df-convert:hover {\n",
              "      background-color: #E2EBFA;\n",
              "      box-shadow: 0px 1px 2px rgba(60, 64, 67, 0.3), 0px 1px 3px 1px rgba(60, 64, 67, 0.15);\n",
              "      fill: #174EA6;\n",
              "    }\n",
              "\n",
              "    [theme=dark] .colab-df-convert {\n",
              "      background-color: #3B4455;\n",
              "      fill: #D2E3FC;\n",
              "    }\n",
              "\n",
              "    [theme=dark] .colab-df-convert:hover {\n",
              "      background-color: #434B5C;\n",
              "      box-shadow: 0px 1px 3px 1px rgba(0, 0, 0, 0.15);\n",
              "      filter: drop-shadow(0px 1px 2px rgba(0, 0, 0, 0.3));\n",
              "      fill: #FFFFFF;\n",
              "    }\n",
              "  </style>\n",
              "\n",
              "      <script>\n",
              "        const buttonEl =\n",
              "          document.querySelector('#df-be05e1c0-f26f-4dd8-843d-a636dae7a0ce button.colab-df-convert');\n",
              "        buttonEl.style.display =\n",
              "          google.colab.kernel.accessAllowed ? 'block' : 'none';\n",
              "\n",
              "        async function convertToInteractive(key) {\n",
              "          const element = document.querySelector('#df-be05e1c0-f26f-4dd8-843d-a636dae7a0ce');\n",
              "          const dataTable =\n",
              "            await google.colab.kernel.invokeFunction('convertToInteractive',\n",
              "                                                     [key], {});\n",
              "          if (!dataTable) return;\n",
              "\n",
              "          const docLinkHtml = 'Like what you see? Visit the ' +\n",
              "            '<a target=\"_blank\" href=https://colab.research.google.com/notebooks/data_table.ipynb>data table notebook</a>'\n",
              "            + ' to learn more about interactive tables.';\n",
              "          element.innerHTML = '';\n",
              "          dataTable['output_type'] = 'display_data';\n",
              "          await google.colab.output.renderOutput(dataTable, element);\n",
              "          const docLink = document.createElement('div');\n",
              "          docLink.innerHTML = docLinkHtml;\n",
              "          element.appendChild(docLink);\n",
              "        }\n",
              "      </script>\n",
              "    </div>\n",
              "  </div>\n",
              "  "
            ]
          },
          "metadata": {},
          "execution_count": 38
        }
      ]
    },
    {
      "cell_type": "code",
      "source": [
        "print(dftrain.shape)\n",
        "print(\"Number of training Samples: \", dftrain.shape[0])\n",
        "print(\"Number of raw features: \", dftrain.shape[1])\n",
        "print(\"Number of missing values: \", dftrain.isnull().sum().sum())\n",
        "Cat = dftrain.select_dtypes(include='object')\n",
        "print(\"Number of Catagorical Variables:\", Cat.columns.values.shape[0])"
      ],
      "metadata": {
        "colab": {
          "base_uri": "https://localhost:8080/"
        },
        "id": "DhyoUjZPbuje",
        "outputId": "576f0b43-f0bb-4bf8-eb58-91cf7a0bf40c"
      },
      "execution_count": 39,
      "outputs": [
        {
          "output_type": "stream",
          "name": "stdout",
          "text": [
            "(1460, 81)\n",
            "Number of training Samples:  1460\n",
            "Number of raw features:  81\n",
            "Number of missing values:  6965\n",
            "Number of Catagorical Variables: 43\n"
          ]
        }
      ]
    },
    {
      "cell_type": "code",
      "source": [
        "print(\"axes = \", dftrain.axes)\n",
        "print(\"dtype =\\n\", dftrain.dtypes)"
      ],
      "metadata": {
        "colab": {
          "base_uri": "https://localhost:8080/"
        },
        "id": "uSXHBMPQKBE_",
        "outputId": "63c77612-a26c-4136-82a9-62fb130c848d"
      },
      "execution_count": 40,
      "outputs": [
        {
          "output_type": "stream",
          "name": "stdout",
          "text": [
            "axes =  [RangeIndex(start=0, stop=1460, step=1), Index(['Id', 'MSSubClass', 'MSZoning', 'LotFrontage', 'LotArea', 'Street',\n",
            "       'Alley', 'LotShape', 'LandContour', 'Utilities', 'LotConfig',\n",
            "       'LandSlope', 'Neighborhood', 'Condition1', 'Condition2', 'BldgType',\n",
            "       'HouseStyle', 'OverallQual', 'OverallCond', 'YearBuilt', 'YearRemodAdd',\n",
            "       'RoofStyle', 'RoofMatl', 'Exterior1st', 'Exterior2nd', 'MasVnrType',\n",
            "       'MasVnrArea', 'ExterQual', 'ExterCond', 'Foundation', 'BsmtQual',\n",
            "       'BsmtCond', 'BsmtExposure', 'BsmtFinType1', 'BsmtFinSF1',\n",
            "       'BsmtFinType2', 'BsmtFinSF2', 'BsmtUnfSF', 'TotalBsmtSF', 'Heating',\n",
            "       'HeatingQC', 'CentralAir', 'Electrical', '1stFlrSF', '2ndFlrSF',\n",
            "       'LowQualFinSF', 'GrLivArea', 'BsmtFullBath', 'BsmtHalfBath', 'FullBath',\n",
            "       'HalfBath', 'BedroomAbvGr', 'KitchenAbvGr', 'KitchenQual',\n",
            "       'TotRmsAbvGrd', 'Functional', 'Fireplaces', 'FireplaceQu', 'GarageType',\n",
            "       'GarageYrBlt', 'GarageFinish', 'GarageCars', 'GarageArea', 'GarageQual',\n",
            "       'GarageCond', 'PavedDrive', 'WoodDeckSF', 'OpenPorchSF',\n",
            "       'EnclosedPorch', '3SsnPorch', 'ScreenPorch', 'PoolArea', 'PoolQC',\n",
            "       'Fence', 'MiscFeature', 'MiscVal', 'MoSold', 'YrSold', 'SaleType',\n",
            "       'SaleCondition', 'SalePrice'],\n",
            "      dtype='object')]\n",
            "dtype =\n",
            " Id                 int64\n",
            "MSSubClass         int64\n",
            "MSZoning          object\n",
            "LotFrontage      float64\n",
            "LotArea            int64\n",
            "                  ...   \n",
            "MoSold             int64\n",
            "YrSold             int64\n",
            "SaleType          object\n",
            "SaleCondition     object\n",
            "SalePrice          int64\n",
            "Length: 81, dtype: object\n"
          ]
        }
      ]
    },
    {
      "cell_type": "code",
      "source": [
        "LotArea = dftrain[dftrain.columns[4]]\n",
        "print(LotArea.shape)\n",
        "SalePrice = dftrain[dftrain.columns[80]]\n",
        "print(SalePrice.shape)\n",
        "pyplot.figure(figsize=(8, 6), dpi=80)\n",
        "pyplot.figure(1)\n",
        "pyplot.xlabel('LotArea') \n",
        "pyplot.ylabel('SalesPrice') \n",
        "# displaying the title\n",
        "pyplot.title(\"SalePrice as a function of LotArea\")\n",
        "pyplot.plot(LotArea,SalePrice,'bo')\n",
        "pyplot.figure(figsize=(8, 6), dpi=80)"
      ],
      "metadata": {
        "colab": {
          "base_uri": "https://localhost:8080/",
          "height": 515
        },
        "id": "25HVq2blKBZ4",
        "outputId": "d2aca3cb-457c-480e-dac0-87532f5e325f"
      },
      "execution_count": 41,
      "outputs": [
        {
          "output_type": "stream",
          "name": "stdout",
          "text": [
            "(1460,)\n",
            "(1460,)\n"
          ]
        },
        {
          "output_type": "execute_result",
          "data": {
            "text/plain": [
              "<Figure size 640x480 with 0 Axes>"
            ]
          },
          "metadata": {},
          "execution_count": 41
        },
        {
          "output_type": "display_data",
          "data": {
            "text/plain": [
              "<Figure size 640x480 with 1 Axes>"
            ],
            "image/png": "[encoded data removed]"
          },
          "metadata": {
            "needs_background": "light"
          }
        },
        {
          "output_type": "display_data",
          "data": {
            "text/plain": [
              "<Figure size 640x480 with 0 Axes>"
            ]
          },
          "metadata": {}
        }
      ]
    },
    {
      "cell_type": "code",
      "source": [
        "Garage = dftrain[['GarageArea']]\n",
        "df = dftrain[['GarageArea', 'SalePrice']]\n",
        "Garage = Garage.to_numpy()\n",
        "df= df[df['GarageArea'] != 0]\n",
        "print(df.shape)\n",
        "print(\"Samples that have a GarageArea greater than zero =\", df.shape[0])\n",
        "pyplot.figure(figsize=(8, 6), dpi=80)\n",
        "pyplot.figure(1)\n",
        "pyplot.xlabel('GarageArea') \n",
        "pyplot.ylabel('SalesPrice')\n",
        "pyplot.title(\"SalePrice as a function of GarageArea\")\n",
        "pyplot.plot(df.GarageArea,df.SalePrice,'bo')"
      ],
      "metadata": {
        "colab": {
          "base_uri": "https://localhost:8080/",
          "height": 498
        },
        "id": "KabHPK7oLKV_",
        "outputId": "29f9dc76-5862-4eb1-c805-881a0e76de99"
      },
      "execution_count": 42,
      "outputs": [
        {
          "output_type": "stream",
          "name": "stdout",
          "text": [
            "(1379, 2)\n",
            "Samples that have a GarageArea greater than zero = 1379\n"
          ]
        },
        {
          "output_type": "execute_result",
          "data": {
            "text/plain": [
              "[<matplotlib.lines.Line2D at 0x7fb2a3540350>]"
            ]
          },
          "metadata": {},
          "execution_count": 42
        },
        {
          "output_type": "display_data",
          "data": {
            "text/plain": [
              "<Figure size 640x480 with 1 Axes>"
            ],
            "image/png": "[encoded data removed]"
          },
          "metadata": {
            "needs_background": "light"
          }
        }
      ]
    },
    {
      "cell_type": "markdown",
      "source": [
        "The data contains a varaity of catagorical and continous varibles that effect the SalesPrice of multiple houses. There are a total of 1460 Samples in the data with an accompning 81 features. There are aslo a total of 6965 missing values and 43 catagorical variables. The data was then aslo plotted where one contained SalesPrice vs LotArea, and the other one contained SalesPrice vs GarageArea. The first plot, seems to contain a majority of it's points concentrated in a LotArea of 50000. There seems to be no true linear corelation between the LotArea and the SalePrice, since points seem to be grouped in an ovel. As for the second plot, we can see a postive correlation between GarageArea and SalesPrices. As the GargeArea gradually increases so does the SalePrice. SalesPrice as a function of GarageArea would be a plot to perform linear regression, since there seems to be a linear relationship between the two variables. \n"
      ],
      "metadata": {
        "id": "DXdwGnCL3Zmd"
      }
    },
    {
      "cell_type": "markdown",
      "source": [
        "# Part B\n",
        "\n",
        "\n",
        "---\n",
        "\n"
      ],
      "metadata": {
        "id": "75Ai0Q80aYZR"
      }
    },
    {
      "cell_type": "code",
      "source": [
        "#Remove collumn that don't really effect the prediction of price\n",
        "dftrain = dftrain.drop(['Street', 'Utilities', 'RoofMatl','Heating','HeatingQC','Functional'], axis=1)\n",
        "#Both Street, RooftMat1, Utilties and Heating have less then 15 samples that defer from the rest. \n",
        "#Heating is tied to the Heating Quality, since heating is removed there is no need for HeatingQC. \n",
        "#Since we already have "
      ],
      "metadata": {
        "id": "i7Cyfg3_S4So"
      },
      "execution_count": 43,
      "outputs": []
    },
    {
      "cell_type": "code",
      "source": [
        "#Find collumns that contain the most missing values \n",
        "NullValues = dftrain.isnull().sum()\n",
        "for i in range(0,75):\n",
        "  if NullValues[i] > 500:\n",
        "    print(\"Name:\", dftrain.columns[i])"
      ],
      "metadata": {
        "colab": {
          "base_uri": "https://localhost:8080/"
        },
        "id": "8ovnBRUEifaT",
        "outputId": "7b2b7d3a-8d47-43b7-a4ce-8933c9a73711"
      },
      "execution_count": 44,
      "outputs": [
        {
          "output_type": "stream",
          "name": "stdout",
          "text": [
            "Name: Alley\n",
            "Name: FireplaceQu\n",
            "Name: PoolQC\n",
            "Name: Fence\n",
            "Name: MiscFeature\n"
          ]
        }
      ]
    },
    {
      "cell_type": "code",
      "source": [
        "#Remove all these collumns since they seem to have no effect on Sales Price since a majority of their\n",
        "#data values is null\n",
        "dftrain = dftrain.drop(['Alley', 'FireplaceQu', 'PoolQC', 'Fence', 'MiscFeature'], axis=1)\n",
        "dftrain.isnull().sum()"
      ],
      "metadata": {
        "colab": {
          "base_uri": "https://localhost:8080/"
        },
        "id": "wF5hOZKBwlSr",
        "outputId": "947fba23-e32b-4c6f-8201-e509c4ff8a36"
      },
      "execution_count": 45,
      "outputs": [
        {
          "output_type": "execute_result",
          "data": {
            "text/plain": [
              "Id                 0\n",
              "MSSubClass         0\n",
              "MSZoning           0\n",
              "LotFrontage      259\n",
              "LotArea            0\n",
              "                ... \n",
              "MoSold             0\n",
              "YrSold             0\n",
              "SaleType           0\n",
              "SaleCondition      0\n",
              "SalePrice          0\n",
              "Length: 70, dtype: int64"
            ]
          },
          "metadata": {},
          "execution_count": 45
        }
      ]
    },
    {
      "cell_type": "code",
      "source": [
        "#Find collumns that contain low missing values\n",
        "NullValues = dftrain.isnull().sum()\n",
        "for i in range(0,70):\n",
        "  if ((NullValues[i] > 0) & (NullValues[i] < 20)):\n",
        "    print(\"Name:\", dftrain.columns[i])"
      ],
      "metadata": {
        "colab": {
          "base_uri": "https://localhost:8080/"
        },
        "id": "z7jMZnSUuI22",
        "outputId": "c15276d3-9f8f-49aa-8c0c-7d94d45b7877"
      },
      "execution_count": 46,
      "outputs": [
        {
          "output_type": "stream",
          "name": "stdout",
          "text": [
            "Name: MasVnrType\n",
            "Name: MasVnrArea\n",
            "Name: Electrical\n"
          ]
        }
      ]
    },
    {
      "cell_type": "code",
      "source": [
        "#Get rid of these rows with these values\n",
        "#Since the number is really small, we can simply get rid of the rows. In total\n",
        "#9 sample were elimated from the dataset\n",
        "dftrain= dftrain.dropna(axis=0, subset=['Electrical','MasVnrType','MasVnrArea'])\n",
        "dftrain.shape"
      ],
      "metadata": {
        "colab": {
          "base_uri": "https://localhost:8080/"
        },
        "id": "DxOcSdIMx9WJ",
        "outputId": "20777f45-7ab8-4093-a5a4-977e8f47464c"
      },
      "execution_count": 47,
      "outputs": [
        {
          "output_type": "execute_result",
          "data": {
            "text/plain": [
              "(1451, 70)"
            ]
          },
          "metadata": {},
          "execution_count": 47
        }
      ]
    },
    {
      "cell_type": "code",
      "source": [
        "#We go through the dataset and look for features that contain a large amount of \n",
        "#missing values\n",
        "NullValues = dftrain.isnull().sum()\n",
        "for i in range(0,70):\n",
        "  if ((NullValues[i] > 0) & (NullValues[i] < 100)):\n",
        "    print(\"Name:\", dftrain.columns[i])"
      ],
      "metadata": {
        "colab": {
          "base_uri": "https://localhost:8080/"
        },
        "id": "2iPZYHtRyINW",
        "outputId": "b46a1295-d8b1-4890-a5c0-9e79ea41a01c"
      },
      "execution_count": 48,
      "outputs": [
        {
          "output_type": "stream",
          "name": "stdout",
          "text": [
            "Name: BsmtQual\n",
            "Name: BsmtCond\n",
            "Name: BsmtExposure\n",
            "Name: BsmtFinType1\n",
            "Name: BsmtFinType2\n",
            "Name: GarageType\n",
            "Name: GarageYrBlt\n",
            "Name: GarageFinish\n",
            "Name: GarageQual\n",
            "Name: GarageCond\n"
          ]
        }
      ]
    },
    {
      "cell_type": "code",
      "source": [
        "#Fill in these missing values with their respective plosible values \n",
        "dftrain[['GarageType', 'GarageYrBlt', 'GarageFinish', 'GarageQual', 'GarageCond','BsmtQual','BsmtCond','BsmtExposure','BsmtFinType1','BsmtFinType2']]"
      ],
      "metadata": {
        "colab": {
          "base_uri": "https://localhost:8080/",
          "height": 424
        },
        "id": "4gKI9b-cy7I-",
        "outputId": "72534b90-21b1-4418-9bbf-dfe047612b34"
      },
      "execution_count": 49,
      "outputs": [
        {
          "output_type": "execute_result",
          "data": {
            "text/plain": [
              "     GarageType  GarageYrBlt GarageFinish GarageQual GarageCond BsmtQual  \\\n",
              "0        Attchd       2003.0          RFn         TA         TA       Gd   \n",
              "1        Attchd       1976.0          RFn         TA         TA       Gd   \n",
              "2        Attchd       2001.0          RFn         TA         TA       Gd   \n",
              "3        Detchd       1998.0          Unf         TA         TA       TA   \n",
              "4        Attchd       2000.0          RFn         TA         TA       Gd   \n",
              "...         ...          ...          ...        ...        ...      ...   \n",
              "1455     Attchd       1999.0          RFn         TA         TA       Gd   \n",
              "1456     Attchd       1978.0          Unf         TA         TA       Gd   \n",
              "1457     Attchd       1941.0          RFn         TA         TA       TA   \n",
              "1458     Attchd       1950.0          Unf         TA         TA       TA   \n",
              "1459     Attchd       1965.0          Fin         TA         TA       TA   \n",
              "\n",
              "     BsmtCond BsmtExposure BsmtFinType1 BsmtFinType2  \n",
              "0          TA           No          GLQ          Unf  \n",
              "1          TA           Gd          ALQ          Unf  \n",
              "2          TA           Mn          GLQ          Unf  \n",
              "3          Gd           No          ALQ          Unf  \n",
              "4          TA           Av          GLQ          Unf  \n",
              "...       ...          ...          ...          ...  \n",
              "1455       TA           No          Unf          Unf  \n",
              "1456       TA           No          ALQ          Rec  \n",
              "1457       Gd           No          GLQ          Unf  \n",
              "1458       TA           Mn          GLQ          Rec  \n",
              "1459       TA           No          BLQ          LwQ  \n",
              "\n",
              "[1451 rows x 10 columns]"
            ],
            "text/html": [
              "\n",
              "  <div id=\"df-349edc5e-c923-48d3-b046-608150a74044\">\n",
              "    <div class=\"colab-df-container\">\n",
              "      <div>\n",
              "<style scoped>\n",
              "    .dataframe tbody tr th:only-of-type {\n",
              "        vertical-align: middle;\n",
              "    }\n",
              "\n",
              "    .dataframe tbody tr th {\n",
              "        vertical-align: top;\n",
              "    }\n",
              "\n",
              "    .dataframe thead th {\n",
              "        text-align: right;\n",
              "    }\n",
              "</style>\n",
              "<table border=\"1\" class=\"dataframe\">\n",
              "  <thead>\n",
              "    <tr style=\"text-align: right;\">\n",
              "      <th></th>\n",
              "      <th>GarageType</th>\n",
              "      <th>GarageYrBlt</th>\n",
              "      <th>GarageFinish</th>\n",
              "      <th>GarageQual</th>\n",
              "      <th>GarageCond</th>\n",
              "      <th>BsmtQual</th>\n",
              "      <th>BsmtCond</th>\n",
              "      <th>BsmtExposure</th>\n",
              "      <th>BsmtFinType1</th>\n",
              "      <th>BsmtFinType2</th>\n",
              "    </tr>\n",
              "  </thead>\n",
              "  <tbody>\n",
              "    <tr>\n",
              "      <th>0</th>\n",
              "      <td>Attchd</td>\n",
              "      <td>2003.0</td>\n",
              "      <td>RFn</td>\n",
              "      <td>TA</td>\n",
              "      <td>TA</td>\n",
              "      <td>Gd</td>\n",
              "      <td>TA</td>\n",
              "      <td>No</td>\n",
              "      <td>GLQ</td>\n",
              "      <td>Unf</td>\n",
              "    </tr>\n",
              "    <tr>\n",
              "      <th>1</th>\n",
              "      <td>Attchd</td>\n",
              "      <td>1976.0</td>\n",
              "      <td>RFn</td>\n",
              "      <td>TA</td>\n",
              "      <td>TA</td>\n",
              "      <td>Gd</td>\n",
              "      <td>TA</td>\n",
              "      <td>Gd</td>\n",
              "      <td>ALQ</td>\n",
              "      <td>Unf</td>\n",
              "    </tr>\n",
              "    <tr>\n",
              "      <th>2</th>\n",
              "      <td>Attchd</td>\n",
              "      <td>2001.0</td>\n",
              "      <td>RFn</td>\n",
              "      <td>TA</td>\n",
              "      <td>TA</td>\n",
              "      <td>Gd</td>\n",
              "      <td>TA</td>\n",
              "      <td>Mn</td>\n",
              "      <td>GLQ</td>\n",
              "      <td>Unf</td>\n",
              "    </tr>\n",
              "    <tr>\n",
              "      <th>3</th>\n",
              "      <td>Detchd</td>\n",
              "      <td>1998.0</td>\n",
              "      <td>Unf</td>\n",
              "      <td>TA</td>\n",
              "      <td>TA</td>\n",
              "      <td>TA</td>\n",
              "      <td>Gd</td>\n",
              "      <td>No</td>\n",
              "      <td>ALQ</td>\n",
              "      <td>Unf</td>\n",
              "    </tr>\n",
              "    <tr>\n",
              "      <th>4</th>\n",
              "      <td>Attchd</td>\n",
              "      <td>2000.0</td>\n",
              "      <td>RFn</td>\n",
              "      <td>TA</td>\n",
              "      <td>TA</td>\n",
              "      <td>Gd</td>\n",
              "      <td>TA</td>\n",
              "      <td>Av</td>\n",
              "      <td>GLQ</td>\n",
              "      <td>Unf</td>\n",
              "    </tr>\n",
              "    <tr>\n",
              "      <th>...</th>\n",
              "      <td>...</td>\n",
              "      <td>...</td>\n",
              "      <td>...</td>\n",
              "      <td>...</td>\n",
              "      <td>...</td>\n",
              "      <td>...</td>\n",
              "      <td>...</td>\n",
              "      <td>...</td>\n",
              "      <td>...</td>\n",
              "      <td>...</td>\n",
              "    </tr>\n",
              "    <tr>\n",
              "      <th>1455</th>\n",
              "      <td>Attchd</td>\n",
              "      <td>1999.0</td>\n",
              "      <td>RFn</td>\n",
              "      <td>TA</td>\n",
              "      <td>TA</td>\n",
              "      <td>Gd</td>\n",
              "      <td>TA</td>\n",
              "      <td>No</td>\n",
              "      <td>Unf</td>\n",
              "      <td>Unf</td>\n",
              "    </tr>\n",
              "    <tr>\n",
              "      <th>1456</th>\n",
              "      <td>Attchd</td>\n",
              "      <td>1978.0</td>\n",
              "      <td>Unf</td>\n",
              "      <td>TA</td>\n",
              "      <td>TA</td>\n",
              "      <td>Gd</td>\n",
              "      <td>TA</td>\n",
              "      <td>No</td>\n",
              "      <td>ALQ</td>\n",
              "      <td>Rec</td>\n",
              "    </tr>\n",
              "    <tr>\n",
              "      <th>1457</th>\n",
              "      <td>Attchd</td>\n",
              "      <td>1941.0</td>\n",
              "      <td>RFn</td>\n",
              "      <td>TA</td>\n",
              "      <td>TA</td>\n",
              "      <td>TA</td>\n",
              "      <td>Gd</td>\n",
              "      <td>No</td>\n",
              "      <td>GLQ</td>\n",
              "      <td>Unf</td>\n",
              "    </tr>\n",
              "    <tr>\n",
              "      <th>1458</th>\n",
              "      <td>Attchd</td>\n",
              "      <td>1950.0</td>\n",
              "      <td>Unf</td>\n",
              "      <td>TA</td>\n",
              "      <td>TA</td>\n",
              "      <td>TA</td>\n",
              "      <td>TA</td>\n",
              "      <td>Mn</td>\n",
              "      <td>GLQ</td>\n",
              "      <td>Rec</td>\n",
              "    </tr>\n",
              "    <tr>\n",
              "      <th>1459</th>\n",
              "      <td>Attchd</td>\n",
              "      <td>1965.0</td>\n",
              "      <td>Fin</td>\n",
              "      <td>TA</td>\n",
              "      <td>TA</td>\n",
              "      <td>TA</td>\n",
              "      <td>TA</td>\n",
              "      <td>No</td>\n",
              "      <td>BLQ</td>\n",
              "      <td>LwQ</td>\n",
              "    </tr>\n",
              "  </tbody>\n",
              "</table>\n",
              "<p>1451 rows × 10 columns</p>\n",
              "</div>\n",
              "      <button class=\"colab-df-convert\" onclick=\"convertToInteractive('df-349edc5e-c923-48d3-b046-608150a74044')\"\n",
              "              title=\"Convert this dataframe to an interactive table.\"\n",
              "              style=\"display:none;\">\n",
              "        \n",
              "  <svg xmlns=\"http://www.w3.org/2000/svg\" height=\"24px\"viewBox=\"0 0 24 24\"\n",
              "       width=\"24px\">\n",
              "    <path d=\"M0 0h24v24H0V0z\" fill=\"none\"/>\n",
              "    <path d=\"M18.56 5.44l.94 2.06.94-2.06 2.06-.94-2.06-.94-.94-2.06-.94 2.06-2.06.94zm-11 1L8.5 8.5l.94-2.06 2.06-.94-2.06-.94L8.5 2.5l-.94 2.06-2.06.94zm10 10l.94 2.06.94-2.06 2.06-.94-2.06-.94-.94-2.06-.94 2.06-2.06.94z\"/><path d=\"M17.41 7.96l-1.37-1.37c-.4-.4-.92-.59-1.43-.59-.52 0-1.04.2-1.43.59L10.3 9.45l-7.72 7.72c-.78.78-.78 2.05 0 2.83L4 21.41c.39.39.9.59 1.41.59.51 0 1.02-.2 1.41-.59l7.78-7.78 2.81-2.81c.8-.78.8-2.07 0-2.86zM5.41 20L4 18.59l7.72-7.72 1.47 1.35L5.41 20z\"/>\n",
              "  </svg>\n",
              "      </button>\n",
              "      \n",
              "  <style>\n",
              "    .colab-df-container {\n",
              "      display:flex;\n",
              "      flex-wrap:wrap;\n",
              "      gap: 12px;\n",
              "    }\n",
              "\n",
              "    .colab-df-convert {\n",
              "      background-color: #E8F0FE;\n",
              "      border: none;\n",
              "      border-radius: 50%;\n",
              "      cursor: pointer;\n",
              "      display: none;\n",
              "      fill: #1967D2;\n",
              "      height: 32px;\n",
              "      padding: 0 0 0 0;\n",
              "      width: 32px;\n",
              "    }\n",
              "\n",
              "    .colab-df-convert:hover {\n",
              "      background-color: #E2EBFA;\n",
              "      box-shadow: 0px 1px 2px rgba(60, 64, 67, 0.3), 0px 1px 3px 1px rgba(60, 64, 67, 0.15);\n",
              "      fill: #174EA6;\n",
              "    }\n",
              "\n",
              "    [theme=dark] .colab-df-convert {\n",
              "      background-color: #3B4455;\n",
              "      fill: #D2E3FC;\n",
              "    }\n",
              "\n",
              "    [theme=dark] .colab-df-convert:hover {\n",
              "      background-color: #434B5C;\n",
              "      box-shadow: 0px 1px 3px 1px rgba(0, 0, 0, 0.15);\n",
              "      filter: drop-shadow(0px 1px 2px rgba(0, 0, 0, 0.3));\n",
              "      fill: #FFFFFF;\n",
              "    }\n",
              "  </style>\n",
              "\n",
              "      <script>\n",
              "        const buttonEl =\n",
              "          document.querySelector('#df-349edc5e-c923-48d3-b046-608150a74044 button.colab-df-convert');\n",
              "        buttonEl.style.display =\n",
              "          google.colab.kernel.accessAllowed ? 'block' : 'none';\n",
              "\n",
              "        async function convertToInteractive(key) {\n",
              "          const element = document.querySelector('#df-349edc5e-c923-48d3-b046-608150a74044');\n",
              "          const dataTable =\n",
              "            await google.colab.kernel.invokeFunction('convertToInteractive',\n",
              "                                                     [key], {});\n",
              "          if (!dataTable) return;\n",
              "\n",
              "          const docLinkHtml = 'Like what you see? Visit the ' +\n",
              "            '<a target=\"_blank\" href=https://colab.research.google.com/notebooks/data_table.ipynb>data table notebook</a>'\n",
              "            + ' to learn more about interactive tables.';\n",
              "          element.innerHTML = '';\n",
              "          dataTable['output_type'] = 'display_data';\n",
              "          await google.colab.output.renderOutput(dataTable, element);\n",
              "          const docLink = document.createElement('div');\n",
              "          docLink.innerHTML = docLinkHtml;\n",
              "          element.appendChild(docLink);\n",
              "        }\n",
              "      </script>\n",
              "    </div>\n",
              "  </div>\n",
              "  "
            ]
          },
          "metadata": {},
          "execution_count": 49
        }
      ]
    },
    {
      "cell_type": "code",
      "source": [
        "#Catagorical Values with NA will recieve None\n",
        "dftrain['GarageType'] = dftrain['GarageType'].fillna('None')\n",
        "dftrain['GarageFinish'] = dftrain['GarageFinish'].fillna('None')\n",
        "dftrain['GarageQual'] = dftrain['GarageQual'].fillna('None')\n",
        "dftrain['GarageCond'] = dftrain['GarageCond'].fillna('None')\n",
        "dftrain['BsmtQual'] = dftrain['BsmtQual'].fillna('None')\n",
        "dftrain['BsmtCond'] = dftrain['BsmtCond'].fillna('None')\n",
        "dftrain['BsmtFinType1'] = dftrain['BsmtFinType1'].fillna('None')\n",
        "dftrain['BsmtFinType2'] = dftrain['BsmtFinType2'].fillna('None')\n",
        "dftrain['BsmtExposure'] = dftrain['BsmtExposure'].fillna('None')\n",
        "\n",
        "#Continous Vales with NA will recieve 0\n",
        "dftrain['GarageYrBlt'] = dftrain['GarageYrBlt'].fillna('0')\n",
        "dftrain['LotFrontage'] = dftrain['LotFrontage'].fillna('0')\n",
        "\n",
        "NullValues = dftrain.isnull().sum()\n",
        "for i in range(0,70):\n",
        "  if NullValues[i] > 0:\n",
        "    print(\"Name:\", dftrain.columns[i])\n",
        "\n",
        "dftrain"
      ],
      "metadata": {
        "colab": {
          "base_uri": "https://localhost:8080/",
          "height": 488
        },
        "id": "2fyQPzoq1uKE",
        "outputId": "8ddc04b5-cbb8-450b-b159-7b1277b5946c"
      },
      "execution_count": 50,
      "outputs": [
        {
          "output_type": "execute_result",
          "data": {
            "text/plain": [
              "        Id  MSSubClass MSZoning LotFrontage  LotArea LotShape LandContour  \\\n",
              "0        1          60       RL        65.0     8450      Reg         Lvl   \n",
              "1        2          20       RL        80.0     9600      Reg         Lvl   \n",
              "2        3          60       RL        68.0    11250      IR1         Lvl   \n",
              "3        4          70       RL        60.0     9550      IR1         Lvl   \n",
              "4        5          60       RL        84.0    14260      IR1         Lvl   \n",
              "...    ...         ...      ...         ...      ...      ...         ...   \n",
              "1455  1456          60       RL        62.0     7917      Reg         Lvl   \n",
              "1456  1457          20       RL        85.0    13175      Reg         Lvl   \n",
              "1457  1458          70       RL        66.0     9042      Reg         Lvl   \n",
              "1458  1459          20       RL        68.0     9717      Reg         Lvl   \n",
              "1459  1460          20       RL        75.0     9937      Reg         Lvl   \n",
              "\n",
              "     LotConfig LandSlope Neighborhood  ... EnclosedPorch 3SsnPorch  \\\n",
              "0       Inside       Gtl      CollgCr  ...             0         0   \n",
              "1          FR2       Gtl      Veenker  ...             0         0   \n",
              "2       Inside       Gtl      CollgCr  ...             0         0   \n",
              "3       Corner       Gtl      Crawfor  ...           272         0   \n",
              "4          FR2       Gtl      NoRidge  ...             0         0   \n",
              "...        ...       ...          ...  ...           ...       ...   \n",
              "1455    Inside       Gtl      Gilbert  ...             0         0   \n",
              "1456    Inside       Gtl       NWAmes  ...             0         0   \n",
              "1457    Inside       Gtl      Crawfor  ...             0         0   \n",
              "1458    Inside       Gtl        NAmes  ...           112         0   \n",
              "1459    Inside       Gtl      Edwards  ...             0         0   \n",
              "\n",
              "     ScreenPorch PoolArea  MiscVal  MoSold  YrSold  SaleType SaleCondition  \\\n",
              "0              0        0        0       2    2008        WD        Normal   \n",
              "1              0        0        0       5    2007        WD        Normal   \n",
              "2              0        0        0       9    2008        WD        Normal   \n",
              "3              0        0        0       2    2006        WD       Abnorml   \n",
              "4              0        0        0      12    2008        WD        Normal   \n",
              "...          ...      ...      ...     ...     ...       ...           ...   \n",
              "1455           0        0        0       8    2007        WD        Normal   \n",
              "1456           0        0        0       2    2010        WD        Normal   \n",
              "1457           0        0     2500       5    2010        WD        Normal   \n",
              "1458           0        0        0       4    2010        WD        Normal   \n",
              "1459           0        0        0       6    2008        WD        Normal   \n",
              "\n",
              "     SalePrice  \n",
              "0       208500  \n",
              "1       181500  \n",
              "2       223500  \n",
              "3       140000  \n",
              "4       250000  \n",
              "...        ...  \n",
              "1455    175000  \n",
              "1456    210000  \n",
              "1457    266500  \n",
              "1458    142125  \n",
              "1459    147500  \n",
              "\n",
              "[1451 rows x 70 columns]"
            ],
            "text/html": [
              "\n",
              "  <div id=\"df-9560acaa-005b-486e-9393-79932779b7ea\">\n",
              "    <div class=\"colab-df-container\">\n",
              "      <div>\n",
              "<style scoped>\n",
              "    .dataframe tbody tr th:only-of-type {\n",
              "        vertical-align: middle;\n",
              "    }\n",
              "\n",
              "    .dataframe tbody tr th {\n",
              "        vertical-align: top;\n",
              "    }\n",
              "\n",
              "    .dataframe thead th {\n",
              "        text-align: right;\n",
              "    }\n",
              "</style>\n",
              "<table border=\"1\" class=\"dataframe\">\n",
              "  <thead>\n",
              "    <tr style=\"text-align: right;\">\n",
              "      <th></th>\n",
              "      <th>Id</th>\n",
              "      <th>MSSubClass</th>\n",
              "      <th>MSZoning</th>\n",
              "      <th>LotFrontage</th>\n",
              "      <th>LotArea</th>\n",
              "      <th>LotShape</th>\n",
              "      <th>LandContour</th>\n",
              "      <th>LotConfig</th>\n",
              "      <th>LandSlope</th>\n",
              "      <th>Neighborhood</th>\n",
              "      <th>...</th>\n",
              "      <th>EnclosedPorch</th>\n",
              "      <th>3SsnPorch</th>\n",
              "      <th>ScreenPorch</th>\n",
              "      <th>PoolArea</th>\n",
              "      <th>MiscVal</th>\n",
              "      <th>MoSold</th>\n",
              "      <th>YrSold</th>\n",
              "      <th>SaleType</th>\n",
              "      <th>SaleCondition</th>\n",
              "      <th>SalePrice</th>\n",
              "    </tr>\n",
              "  </thead>\n",
              "  <tbody>\n",
              "    <tr>\n",
              "      <th>0</th>\n",
              "      <td>1</td>\n",
              "      <td>60</td>\n",
              "      <td>RL</td>\n",
              "      <td>65.0</td>\n",
              "      <td>8450</td>\n",
              "      <td>Reg</td>\n",
              "      <td>Lvl</td>\n",
              "      <td>Inside</td>\n",
              "      <td>Gtl</td>\n",
              "      <td>CollgCr</td>\n",
              "      <td>...</td>\n",
              "      <td>0</td>\n",
              "      <td>0</td>\n",
              "      <td>0</td>\n",
              "      <td>0</td>\n",
              "      <td>0</td>\n",
              "      <td>2</td>\n",
              "      <td>2008</td>\n",
              "      <td>WD</td>\n",
              "      <td>Normal</td>\n",
              "      <td>208500</td>\n",
              "    </tr>\n",
              "    <tr>\n",
              "      <th>1</th>\n",
              "      <td>2</td>\n",
              "      <td>20</td>\n",
              "      <td>RL</td>\n",
              "      <td>80.0</td>\n",
              "      <td>9600</td>\n",
              "      <td>Reg</td>\n",
              "      <td>Lvl</td>\n",
              "      <td>FR2</td>\n",
              "      <td>Gtl</td>\n",
              "      <td>Veenker</td>\n",
              "      <td>...</td>\n",
              "      <td>0</td>\n",
              "      <td>0</td>\n",
              "      <td>0</td>\n",
              "      <td>0</td>\n",
              "      <td>0</td>\n",
              "      <td>5</td>\n",
              "      <td>2007</td>\n",
              "      <td>WD</td>\n",
              "      <td>Normal</td>\n",
              "      <td>181500</td>\n",
              "    </tr>\n",
              "    <tr>\n",
              "      <th>2</th>\n",
              "      <td>3</td>\n",
              "      <td>60</td>\n",
              "      <td>RL</td>\n",
              "      <td>68.0</td>\n",
              "      <td>11250</td>\n",
              "      <td>IR1</td>\n",
              "      <td>Lvl</td>\n",
              "      <td>Inside</td>\n",
              "      <td>Gtl</td>\n",
              "      <td>CollgCr</td>\n",
              "      <td>...</td>\n",
              "      <td>0</td>\n",
              "      <td>0</td>\n",
              "      <td>0</td>\n",
              "      <td>0</td>\n",
              "      <td>0</td>\n",
              "      <td>9</td>\n",
              "      <td>2008</td>\n",
              "      <td>WD</td>\n",
              "      <td>Normal</td>\n",
              "      <td>223500</td>\n",
              "    </tr>\n",
              "    <tr>\n",
              "      <th>3</th>\n",
              "      <td>4</td>\n",
              "      <td>70</td>\n",
              "      <td>RL</td>\n",
              "      <td>60.0</td>\n",
              "      <td>9550</td>\n",
              "      <td>IR1</td>\n",
              "      <td>Lvl</td>\n",
              "      <td>Corner</td>\n",
              "      <td>Gtl</td>\n",
              "      <td>Crawfor</td>\n",
              "      <td>...</td>\n",
              "      <td>272</td>\n",
              "      <td>0</td>\n",
              "      <td>0</td>\n",
              "      <td>0</td>\n",
              "      <td>0</td>\n",
              "      <td>2</td>\n",
              "      <td>2006</td>\n",
              "      <td>WD</td>\n",
              "      <td>Abnorml</td>\n",
              "      <td>140000</td>\n",
              "    </tr>\n",
              "    <tr>\n",
              "      <th>4</th>\n",
              "      <td>5</td>\n",
              "      <td>60</td>\n",
              "      <td>RL</td>\n",
              "      <td>84.0</td>\n",
              "      <td>14260</td>\n",
              "      <td>IR1</td>\n",
              "      <td>Lvl</td>\n",
              "      <td>FR2</td>\n",
              "      <td>Gtl</td>\n",
              "      <td>NoRidge</td>\n",
              "      <td>...</td>\n",
              "      <td>0</td>\n",
              "      <td>0</td>\n",
              "      <td>0</td>\n",
              "      <td>0</td>\n",
              "      <td>0</td>\n",
              "      <td>12</td>\n",
              "      <td>2008</td>\n",
              "      <td>WD</td>\n",
              "      <td>Normal</td>\n",
              "      <td>250000</td>\n",
              "    </tr>\n",
              "    <tr>\n",
              "      <th>...</th>\n",
              "      <td>...</td>\n",
              "      <td>...</td>\n",
              "      <td>...</td>\n",
              "      <td>...</td>\n",
              "      <td>...</td>\n",
              "      <td>...</td>\n",
              "      <td>...</td>\n",
              "      <td>...</td>\n",
              "      <td>...</td>\n",
              "      <td>...</td>\n",
              "      <td>...</td>\n",
              "      <td>...</td>\n",
              "      <td>...</td>\n",
              "      <td>...</td>\n",
              "      <td>...</td>\n",
              "      <td>...</td>\n",
              "      <td>...</td>\n",
              "      <td>...</td>\n",
              "      <td>...</td>\n",
              "      <td>...</td>\n",
              "      <td>...</td>\n",
              "    </tr>\n",
              "    <tr>\n",
              "      <th>1455</th>\n",
              "      <td>1456</td>\n",
              "      <td>60</td>\n",
              "      <td>RL</td>\n",
              "      <td>62.0</td>\n",
              "      <td>7917</td>\n",
              "      <td>Reg</td>\n",
              "      <td>Lvl</td>\n",
              "      <td>Inside</td>\n",
              "      <td>Gtl</td>\n",
              "      <td>Gilbert</td>\n",
              "      <td>...</td>\n",
              "      <td>0</td>\n",
              "      <td>0</td>\n",
              "      <td>0</td>\n",
              "      <td>0</td>\n",
              "      <td>0</td>\n",
              "      <td>8</td>\n",
              "      <td>2007</td>\n",
              "      <td>WD</td>\n",
              "      <td>Normal</td>\n",
              "      <td>175000</td>\n",
              "    </tr>\n",
              "    <tr>\n",
              "      <th>1456</th>\n",
              "      <td>1457</td>\n",
              "      <td>20</td>\n",
              "      <td>RL</td>\n",
              "      <td>85.0</td>\n",
              "      <td>13175</td>\n",
              "      <td>Reg</td>\n",
              "      <td>Lvl</td>\n",
              "      <td>Inside</td>\n",
              "      <td>Gtl</td>\n",
              "      <td>NWAmes</td>\n",
              "      <td>...</td>\n",
              "      <td>0</td>\n",
              "      <td>0</td>\n",
              "      <td>0</td>\n",
              "      <td>0</td>\n",
              "      <td>0</td>\n",
              "      <td>2</td>\n",
              "      <td>2010</td>\n",
              "      <td>WD</td>\n",
              "      <td>Normal</td>\n",
              "      <td>210000</td>\n",
              "    </tr>\n",
              "    <tr>\n",
              "      <th>1457</th>\n",
              "      <td>1458</td>\n",
              "      <td>70</td>\n",
              "      <td>RL</td>\n",
              "      <td>66.0</td>\n",
              "      <td>9042</td>\n",
              "      <td>Reg</td>\n",
              "      <td>Lvl</td>\n",
              "      <td>Inside</td>\n",
              "      <td>Gtl</td>\n",
              "      <td>Crawfor</td>\n",
              "      <td>...</td>\n",
              "      <td>0</td>\n",
              "      <td>0</td>\n",
              "      <td>0</td>\n",
              "      <td>0</td>\n",
              "      <td>2500</td>\n",
              "      <td>5</td>\n",
              "      <td>2010</td>\n",
              "      <td>WD</td>\n",
              "      <td>Normal</td>\n",
              "      <td>266500</td>\n",
              "    </tr>\n",
              "    <tr>\n",
              "      <th>1458</th>\n",
              "      <td>1459</td>\n",
              "      <td>20</td>\n",
              "      <td>RL</td>\n",
              "      <td>68.0</td>\n",
              "      <td>9717</td>\n",
              "      <td>Reg</td>\n",
              "      <td>Lvl</td>\n",
              "      <td>Inside</td>\n",
              "      <td>Gtl</td>\n",
              "      <td>NAmes</td>\n",
              "      <td>...</td>\n",
              "      <td>112</td>\n",
              "      <td>0</td>\n",
              "      <td>0</td>\n",
              "      <td>0</td>\n",
              "      <td>0</td>\n",
              "      <td>4</td>\n",
              "      <td>2010</td>\n",
              "      <td>WD</td>\n",
              "      <td>Normal</td>\n",
              "      <td>142125</td>\n",
              "    </tr>\n",
              "    <tr>\n",
              "      <th>1459</th>\n",
              "      <td>1460</td>\n",
              "      <td>20</td>\n",
              "      <td>RL</td>\n",
              "      <td>75.0</td>\n",
              "      <td>9937</td>\n",
              "      <td>Reg</td>\n",
              "      <td>Lvl</td>\n",
              "      <td>Inside</td>\n",
              "      <td>Gtl</td>\n",
              "      <td>Edwards</td>\n",
              "      <td>...</td>\n",
              "      <td>0</td>\n",
              "      <td>0</td>\n",
              "      <td>0</td>\n",
              "      <td>0</td>\n",
              "      <td>0</td>\n",
              "      <td>6</td>\n",
              "      <td>2008</td>\n",
              "      <td>WD</td>\n",
              "      <td>Normal</td>\n",
              "      <td>147500</td>\n",
              "    </tr>\n",
              "  </tbody>\n",
              "</table>\n",
              "<p>1451 rows × 70 columns</p>\n",
              "</div>\n",
              "      <button class=\"colab-df-convert\" onclick=\"convertToInteractive('df-9560acaa-005b-486e-9393-79932779b7ea')\"\n",
              "              title=\"Convert this dataframe to an interactive table.\"\n",
              "              style=\"display:none;\">\n",
              "        \n",
              "  <svg xmlns=\"http://www.w3.org/2000/svg\" height=\"24px\"viewBox=\"0 0 24 24\"\n",
              "       width=\"24px\">\n",
              "    <path d=\"M0 0h24v24H0V0z\" fill=\"none\"/>\n",
              "    <path d=\"M18.56 5.44l.94 2.06.94-2.06 2.06-.94-2.06-.94-.94-2.06-.94 2.06-2.06.94zm-11 1L8.5 8.5l.94-2.06 2.06-.94-2.06-.94L8.5 2.5l-.94 2.06-2.06.94zm10 10l.94 2.06.94-2.06 2.06-.94-2.06-.94-.94-2.06-.94 2.06-2.06.94z\"/><path d=\"M17.41 7.96l-1.37-1.37c-.4-.4-.92-.59-1.43-.59-.52 0-1.04.2-1.43.59L10.3 9.45l-7.72 7.72c-.78.78-.78 2.05 0 2.83L4 21.41c.39.39.9.59 1.41.59.51 0 1.02-.2 1.41-.59l7.78-7.78 2.81-2.81c.8-.78.8-2.07 0-2.86zM5.41 20L4 18.59l7.72-7.72 1.47 1.35L5.41 20z\"/>\n",
              "  </svg>\n",
              "      </button>\n",
              "      \n",
              "  <style>\n",
              "    .colab-df-container {\n",
              "      display:flex;\n",
              "      flex-wrap:wrap;\n",
              "      gap: 12px;\n",
              "    }\n",
              "\n",
              "    .colab-df-convert {\n",
              "      background-color: #E8F0FE;\n",
              "      border: none;\n",
              "      border-radius: 50%;\n",
              "      cursor: pointer;\n",
              "      display: none;\n",
              "      fill: #1967D2;\n",
              "      height: 32px;\n",
              "      padding: 0 0 0 0;\n",
              "      width: 32px;\n",
              "    }\n",
              "\n",
              "    .colab-df-convert:hover {\n",
              "      background-color: #E2EBFA;\n",
              "      box-shadow: 0px 1px 2px rgba(60, 64, 67, 0.3), 0px 1px 3px 1px rgba(60, 64, 67, 0.15);\n",
              "      fill: #174EA6;\n",
              "    }\n",
              "\n",
              "    [theme=dark] .colab-df-convert {\n",
              "      background-color: #3B4455;\n",
              "      fill: #D2E3FC;\n",
              "    }\n",
              "\n",
              "    [theme=dark] .colab-df-convert:hover {\n",
              "      background-color: #434B5C;\n",
              "      box-shadow: 0px 1px 3px 1px rgba(0, 0, 0, 0.15);\n",
              "      filter: drop-shadow(0px 1px 2px rgba(0, 0, 0, 0.3));\n",
              "      fill: #FFFFFF;\n",
              "    }\n",
              "  </style>\n",
              "\n",
              "      <script>\n",
              "        const buttonEl =\n",
              "          document.querySelector('#df-9560acaa-005b-486e-9393-79932779b7ea button.colab-df-convert');\n",
              "        buttonEl.style.display =\n",
              "          google.colab.kernel.accessAllowed ? 'block' : 'none';\n",
              "\n",
              "        async function convertToInteractive(key) {\n",
              "          const element = document.querySelector('#df-9560acaa-005b-486e-9393-79932779b7ea');\n",
              "          const dataTable =\n",
              "            await google.colab.kernel.invokeFunction('convertToInteractive',\n",
              "                                                     [key], {});\n",
              "          if (!dataTable) return;\n",
              "\n",
              "          const docLinkHtml = 'Like what you see? Visit the ' +\n",
              "            '<a target=\"_blank\" href=https://colab.research.google.com/notebooks/data_table.ipynb>data table notebook</a>'\n",
              "            + ' to learn more about interactive tables.';\n",
              "          element.innerHTML = '';\n",
              "          dataTable['output_type'] = 'display_data';\n",
              "          await google.colab.output.renderOutput(dataTable, element);\n",
              "          const docLink = document.createElement('div');\n",
              "          docLink.innerHTML = docLinkHtml;\n",
              "          element.appendChild(docLink);\n",
              "        }\n",
              "      </script>\n",
              "    </div>\n",
              "  </div>\n",
              "  "
            ]
          },
          "metadata": {},
          "execution_count": 50
        }
      ]
    },
    {
      "cell_type": "code",
      "source": [
        "#Print all the features and their types\n",
        "print(dftrain.dtypes)\n",
        "#Seperate all the features by catagorical and continous\n",
        "df_continous = dftrain.select_dtypes(exclude='object')\n",
        "df_catagorical = dftrain.select_dtypes(include='object')\n",
        "#Print the two datasets\n",
        "print(\"Continouse features\")\n",
        "print(df_continous)\n",
        "print(\"Catagorical features\")\n",
        "print(df_catagorical)\n",
        "#Create dummy variables for the catagorical set\n",
        "df_catagorical= pd.get_dummies(df_catagorical, drop_first=True)\n",
        "print(\"Hot Coded Catagorical Features\")\n",
        "print(df_catagorical)"
      ],
      "metadata": {
        "colab": {
          "base_uri": "https://localhost:8080/"
        },
        "id": "wri1h34vvYgE",
        "outputId": "94fe3af5-c747-499e-b8e2-bd9dde3c3b53"
      },
      "execution_count": 51,
      "outputs": [
        {
          "output_type": "stream",
          "name": "stdout",
          "text": [
            "Id                int64\n",
            "MSSubClass        int64\n",
            "MSZoning         object\n",
            "LotFrontage      object\n",
            "LotArea           int64\n",
            "                  ...  \n",
            "MoSold            int64\n",
            "YrSold            int64\n",
            "SaleType         object\n",
            "SaleCondition    object\n",
            "SalePrice         int64\n",
            "Length: 70, dtype: object\n",
            "Continouse features\n",
            "        Id  MSSubClass  LotArea  OverallQual  OverallCond  YearBuilt  \\\n",
            "0        1          60     8450            7            5       2003   \n",
            "1        2          20     9600            6            8       1976   \n",
            "2        3          60    11250            7            5       2001   \n",
            "3        4          70     9550            7            5       1915   \n",
            "4        5          60    14260            8            5       2000   \n",
            "...    ...         ...      ...          ...          ...        ...   \n",
            "1455  1456          60     7917            6            5       1999   \n",
            "1456  1457          20    13175            6            6       1978   \n",
            "1457  1458          70     9042            7            9       1941   \n",
            "1458  1459          20     9717            5            6       1950   \n",
            "1459  1460          20     9937            5            6       1965   \n",
            "\n",
            "      YearRemodAdd  MasVnrArea  BsmtFinSF1  BsmtFinSF2  ...  WoodDeckSF  \\\n",
            "0             2003       196.0         706           0  ...           0   \n",
            "1             1976         0.0         978           0  ...         298   \n",
            "2             2002       162.0         486           0  ...           0   \n",
            "3             1970         0.0         216           0  ...           0   \n",
            "4             2000       350.0         655           0  ...         192   \n",
            "...            ...         ...         ...         ...  ...         ...   \n",
            "1455          2000         0.0           0           0  ...           0   \n",
            "1456          1988       119.0         790         163  ...         349   \n",
            "1457          2006         0.0         275           0  ...           0   \n",
            "1458          1996         0.0          49        1029  ...         366   \n",
            "1459          1965         0.0         830         290  ...         736   \n",
            "\n",
            "      OpenPorchSF  EnclosedPorch  3SsnPorch  ScreenPorch  PoolArea  MiscVal  \\\n",
            "0              61              0          0            0         0        0   \n",
            "1               0              0          0            0         0        0   \n",
            "2              42              0          0            0         0        0   \n",
            "3              35            272          0            0         0        0   \n",
            "4              84              0          0            0         0        0   \n",
            "...           ...            ...        ...          ...       ...      ...   \n",
            "1455           40              0          0            0         0        0   \n",
            "1456            0              0          0            0         0        0   \n",
            "1457           60              0          0            0         0     2500   \n",
            "1458            0            112          0            0         0        0   \n",
            "1459           68              0          0            0         0        0   \n",
            "\n",
            "      MoSold  YrSold  SalePrice  \n",
            "0          2    2008     208500  \n",
            "1          5    2007     181500  \n",
            "2          9    2008     223500  \n",
            "3          2    2006     140000  \n",
            "4         12    2008     250000  \n",
            "...      ...     ...        ...  \n",
            "1455       8    2007     175000  \n",
            "1456       2    2010     210000  \n",
            "1457       5    2010     266500  \n",
            "1458       4    2010     142125  \n",
            "1459       6    2008     147500  \n",
            "\n",
            "[1451 rows x 36 columns]\n",
            "Catagorical features\n",
            "     MSZoning LotFrontage LotShape LandContour LotConfig LandSlope  \\\n",
            "0          RL        65.0      Reg         Lvl    Inside       Gtl   \n",
            "1          RL        80.0      Reg         Lvl       FR2       Gtl   \n",
            "2          RL        68.0      IR1         Lvl    Inside       Gtl   \n",
            "3          RL        60.0      IR1         Lvl    Corner       Gtl   \n",
            "4          RL        84.0      IR1         Lvl       FR2       Gtl   \n",
            "...       ...         ...      ...         ...       ...       ...   \n",
            "1455       RL        62.0      Reg         Lvl    Inside       Gtl   \n",
            "1456       RL        85.0      Reg         Lvl    Inside       Gtl   \n",
            "1457       RL        66.0      Reg         Lvl    Inside       Gtl   \n",
            "1458       RL        68.0      Reg         Lvl    Inside       Gtl   \n",
            "1459       RL        75.0      Reg         Lvl    Inside       Gtl   \n",
            "\n",
            "     Neighborhood Condition1 Condition2 BldgType  ... Electrical KitchenQual  \\\n",
            "0         CollgCr       Norm       Norm     1Fam  ...      SBrkr          Gd   \n",
            "1         Veenker      Feedr       Norm     1Fam  ...      SBrkr          TA   \n",
            "2         CollgCr       Norm       Norm     1Fam  ...      SBrkr          Gd   \n",
            "3         Crawfor       Norm       Norm     1Fam  ...      SBrkr          Gd   \n",
            "4         NoRidge       Norm       Norm     1Fam  ...      SBrkr          Gd   \n",
            "...           ...        ...        ...      ...  ...        ...         ...   \n",
            "1455      Gilbert       Norm       Norm     1Fam  ...      SBrkr          TA   \n",
            "1456       NWAmes       Norm       Norm     1Fam  ...      SBrkr          TA   \n",
            "1457      Crawfor       Norm       Norm     1Fam  ...      SBrkr          Gd   \n",
            "1458        NAmes       Norm       Norm     1Fam  ...      FuseA          Gd   \n",
            "1459      Edwards       Norm       Norm     1Fam  ...      SBrkr          TA   \n",
            "\n",
            "     GarageType GarageYrBlt GarageFinish GarageQual GarageCond PavedDrive  \\\n",
            "0        Attchd      2003.0          RFn         TA         TA          Y   \n",
            "1        Attchd      1976.0          RFn         TA         TA          Y   \n",
            "2        Attchd      2001.0          RFn         TA         TA          Y   \n",
            "3        Detchd      1998.0          Unf         TA         TA          Y   \n",
            "4        Attchd      2000.0          RFn         TA         TA          Y   \n",
            "...         ...         ...          ...        ...        ...        ...   \n",
            "1455     Attchd      1999.0          RFn         TA         TA          Y   \n",
            "1456     Attchd      1978.0          Unf         TA         TA          Y   \n",
            "1457     Attchd      1941.0          RFn         TA         TA          Y   \n",
            "1458     Attchd      1950.0          Unf         TA         TA          Y   \n",
            "1459     Attchd      1965.0          Fin         TA         TA          Y   \n",
            "\n",
            "     SaleType SaleCondition  \n",
            "0          WD        Normal  \n",
            "1          WD        Normal  \n",
            "2          WD        Normal  \n",
            "3          WD       Abnorml  \n",
            "4          WD        Normal  \n",
            "...       ...           ...  \n",
            "1455       WD        Normal  \n",
            "1456       WD        Normal  \n",
            "1457       WD        Normal  \n",
            "1458       WD        Normal  \n",
            "1459       WD        Normal  \n",
            "\n",
            "[1451 rows x 34 columns]\n",
            "Hot Coded Catagorical Features\n",
            "      MSZoning_FV  MSZoning_RH  MSZoning_RL  MSZoning_RM  LotFrontage_24.0  \\\n",
            "0               0            0            1            0                 0   \n",
            "1               0            0            1            0                 0   \n",
            "2               0            0            1            0                 0   \n",
            "3               0            0            1            0                 0   \n",
            "4               0            0            1            0                 0   \n",
            "...           ...          ...          ...          ...               ...   \n",
            "1455            0            0            1            0                 0   \n",
            "1456            0            0            1            0                 0   \n",
            "1457            0            0            1            0                 0   \n",
            "1458            0            0            1            0                 0   \n",
            "1459            0            0            1            0                 0   \n",
            "\n",
            "      LotFrontage_30.0  LotFrontage_32.0  LotFrontage_33.0  LotFrontage_34.0  \\\n",
            "0                    0                 0                 0                 0   \n",
            "1                    0                 0                 0                 0   \n",
            "2                    0                 0                 0                 0   \n",
            "3                    0                 0                 0                 0   \n",
            "4                    0                 0                 0                 0   \n",
            "...                ...               ...               ...               ...   \n",
            "1455                 0                 0                 0                 0   \n",
            "1456                 0                 0                 0                 0   \n",
            "1457                 0                 0                 0                 0   \n",
            "1458                 0                 0                 0                 0   \n",
            "1459                 0                 0                 0                 0   \n",
            "\n",
            "      LotFrontage_35.0  ...  SaleType_ConLI  SaleType_ConLw  SaleType_New  \\\n",
            "0                    0  ...               0               0             0   \n",
            "1                    0  ...               0               0             0   \n",
            "2                    0  ...               0               0             0   \n",
            "3                    0  ...               0               0             0   \n",
            "4                    0  ...               0               0             0   \n",
            "...                ...  ...             ...             ...           ...   \n",
            "1455                 0  ...               0               0             0   \n",
            "1456                 0  ...               0               0             0   \n",
            "1457                 0  ...               0               0             0   \n",
            "1458                 0  ...               0               0             0   \n",
            "1459                 0  ...               0               0             0   \n",
            "\n",
            "      SaleType_Oth  SaleType_WD  SaleCondition_AdjLand  SaleCondition_Alloca  \\\n",
            "0                0            1                      0                     0   \n",
            "1                0            1                      0                     0   \n",
            "2                0            1                      0                     0   \n",
            "3                0            1                      0                     0   \n",
            "4                0            1                      0                     0   \n",
            "...            ...          ...                    ...                   ...   \n",
            "1455             0            1                      0                     0   \n",
            "1456             0            1                      0                     0   \n",
            "1457             0            1                      0                     0   \n",
            "1458             0            1                      0                     0   \n",
            "1459             0            1                      0                     0   \n",
            "\n",
            "      SaleCondition_Family  SaleCondition_Normal  SaleCondition_Partial  \n",
            "0                        0                     1                      0  \n",
            "1                        0                     1                      0  \n",
            "2                        0                     1                      0  \n",
            "3                        0                     0                      0  \n",
            "4                        0                     1                      0  \n",
            "...                    ...                   ...                    ...  \n",
            "1455                     0                     1                      0  \n",
            "1456                     0                     1                      0  \n",
            "1457                     0                     1                      0  \n",
            "1458                     0                     1                      0  \n",
            "1459                     0                     1                      0  \n",
            "\n",
            "[1451 rows x 388 columns]\n"
          ]
        }
      ]
    },
    {
      "cell_type": "code",
      "source": [
        "#Remove Price from Data and make a sperate matrix for it\n",
        "Y = df_continous[\"SalePrice\"]\n",
        "print(\"Contious Data shape with Sales Price:\", df_continous.shape)\n",
        "df_continous = df_continous.drop(['SalePrice'], axis=1)\n",
        "print(\"Y shape:\", Y.shape)\n",
        "print(\"Contious Data shape After Sales Price:\", df_continous.shape)"
      ],
      "metadata": {
        "colab": {
          "base_uri": "https://localhost:8080/"
        },
        "id": "w3qqNAzVujQ9",
        "outputId": "56a8d874-0eb1-4d8b-c3fe-76e9cb204fee"
      },
      "execution_count": 52,
      "outputs": [
        {
          "output_type": "stream",
          "name": "stdout",
          "text": [
            "Contious Data shape with Sales Price: (1451, 36)\n",
            "Y shape: (1451,)\n",
            "Contious Data shape After Sales Price: (1451, 35)\n"
          ]
        }
      ]
    },
    {
      "cell_type": "code",
      "source": [
        "#normalize the data to perform PCA\n",
        "NormPCAonCont = stats.zscore(df_continous)"
      ],
      "metadata": {
        "id": "2Bj9jucV5bcY"
      },
      "execution_count": 53,
      "outputs": []
    },
    {
      "cell_type": "markdown",
      "source": [
        "The data contain multiple features and some of these features don't really effect the SalePrice. An examples of this feature would be a variable that's values don't deveiate from the other through the whole dataset. Such as Street which contains a majority of it's values as Paved while only having one value as graval. Therefore, these features are removed to save computational power when calucalting the models. The data also contains missing values that need to be replaced with plausible values. This is done by either setting the value as none for catagorical features or 0 if the feature is continous. To perform these regression models to the dataset, we can't simply apply these models directly to the dataset. Hot encoding was used to replace the dataset with continouse values rather then a catagorical. This involved using 1 and 0 and creating a seperate feature for all the avalaible catagorical options for the respective feature. An example of this is having a feature,color, that can only take the value of blue and red. Therefore, with hot encoding, we would create 2 new features which would be labeled as red and blue. Samples that took the value red would contain 1 in the red feature and 0 in the blue feature. This method of hot encoding is done to catagorical values in the dataset. Lastly we conduct normalaiztion on the continous features such that we are able to conduct PCA"
      ],
      "metadata": {
        "id": "sE3IJdrt5fdL"
      }
    },
    {
      "cell_type": "markdown",
      "source": [
        "# Part C\n",
        "\n",
        "\n",
        "---\n",
        "\n"
      ],
      "metadata": {
        "id": "4h0_aedB5_ZQ"
      }
    },
    {
      "cell_type": "markdown",
      "source": [
        "**PCA**"
      ],
      "metadata": {
        "id": "9Gk5CID7fvvE"
      }
    },
    {
      "cell_type": "code",
      "source": [
        "#PCA will be performed and only obtain the 5 largest eignevalues\n",
        "print(\"Before PCA:\" , NormPCAonCont.shape)\n",
        "pca = PCA(n_components= 5)\n",
        "principalComponent = pca.fit_transform(NormPCAonCont)\n",
        "print(\"After PCA:\" , principalComponent.shape)\n",
        "df = pd.DataFrame(principalComponent, columns = ['PCA1','PC2','PC3','PCA4','PC5'])\n",
        "print(df.shape)\n",
        "print(\"missing values:\", df.isnull().sum().sum())"
      ],
      "metadata": {
        "colab": {
          "base_uri": "https://localhost:8080/"
        },
        "id": "RyIksPHe6MxT",
        "outputId": "147280da-2433-45a2-b8ed-7b173ccecfd3"
      },
      "execution_count": 54,
      "outputs": [
        {
          "output_type": "stream",
          "name": "stdout",
          "text": [
            "Before PCA: (1451, 35)\n",
            "After PCA: (1451, 5)\n",
            "(1451, 5)\n",
            "missing values: 0\n"
          ]
        }
      ]
    },
    {
      "cell_type": "code",
      "source": [
        "print(\"Shape of PCA:\", df.shape)\n",
        "print(\"Shape of Catagorical:\", df_catagorical.shape)\n",
        "print(\"missing values catagorical:\", df_catagorical.isnull().sum().sum())\n",
        "print(\"missing values PCA:\", df_catagorical.isnull().sum().sum())"
      ],
      "metadata": {
        "colab": {
          "base_uri": "https://localhost:8080/"
        },
        "id": "oZhvwMaF_4YV",
        "outputId": "0a2ee107-3383-48ee-9924-a2658cbc55cb"
      },
      "execution_count": 55,
      "outputs": [
        {
          "output_type": "stream",
          "name": "stdout",
          "text": [
            "Shape of PCA: (1451, 5)\n",
            "Shape of Catagorical: (1451, 388)\n",
            "missing values catagorical: 0\n",
            "missing values PCA: 0\n"
          ]
        }
      ]
    },
    {
      "cell_type": "code",
      "source": [
        "#Turn both the the categorical matrix and continous matrix into numpy arrays\n",
        "#Concatate both matricies into 1\n",
        "PCAarry = df.to_numpy()\n",
        "DummyVar = df_catagorical.to_numpy()\n",
        "Data = np.concatenate((PCAarry, DummyVar),axis = 1)"
      ],
      "metadata": {
        "id": "QkRCQGWTrA41"
      },
      "execution_count": 56,
      "outputs": []
    },
    {
      "cell_type": "markdown",
      "source": [
        "PCA is only performed on the continous variables. Performing PCA on all the data would be possible, but wouldn't truly be meaningful since, it's a binary set and PCA is intended to be used on continouse values. Since Hot Encoding accounts for so many features, only the top 5 principles components are chosen. When using the function, we first state how many principle components we would like from the data. This is done by obtaining the 5 largest eigen values with their corresponding eigenvectors. Once stated, we call the function based on the data we input, in this case it's the housing data transformed into a (1451, 35) matrix.  This function calauclted the confusion matrix which is normalized data times its transpose. It then goes on to calculating egienvalues and egienvectors. If the computed eigenvalue is large, then their corresponding eigenvector contains important data dependcies. Unlike lower valued eigenvalues, such as eigenvalues near zero, which are relatively unimportant and that data depends on fewer components. Here PCA is taken with only the 5 largest eigenvalues. "
      ],
      "metadata": {
        "id": "oaMt9VbE8HEQ"
      }
    },
    {
      "cell_type": "markdown",
      "source": [
        "# Part D\n",
        "\n",
        "\n",
        "---\n",
        "\n"
      ],
      "metadata": {
        "id": "8-5H0IzyI0ti"
      }
    },
    {
      "cell_type": "markdown",
      "source": [
        "**Regression**"
      ],
      "metadata": {
        "id": "NgEqDt1_MNA2"
      }
    },
    {
      "cell_type": "code",
      "source": [
        "#Add a collumn of 1s to accrount for the intercept. \n",
        "ones = np.ones((1451, 1))\n",
        "X = np.concatenate((ones,Data), axis=1)\n",
        "print(X.shape)"
      ],
      "metadata": {
        "colab": {
          "base_uri": "https://localhost:8080/"
        },
        "id": "orfpdWQzMe4U",
        "outputId": "b1cde71e-18d5-4d47-c832-56ff8e697fce"
      },
      "execution_count": 57,
      "outputs": [
        {
          "output_type": "stream",
          "name": "stdout",
          "text": [
            "(1451, 394)\n"
          ]
        }
      ]
    },
    {
      "cell_type": "code",
      "source": [
        "#Split data into train and test\n",
        "Split = np.split(X, [1000])\n",
        "Output = Y.to_numpy()\n",
        "Split1 = np.split(Output, [1000])\n",
        "X = Split[0]\n",
        "X_test = Split[1]\n",
        "Y = Split1[0]\n",
        "Y = np.expand_dims(Y,axis=1)\n",
        "Y_test = Split1[1]\n",
        "Y_test = np.expand_dims(Y_test,axis=1)\n",
        "print(X.shape)\n",
        "print(X_test.shape)\n",
        "print(Y.shape)\n",
        "print(Y_test.shape)"
      ],
      "metadata": {
        "colab": {
          "base_uri": "https://localhost:8080/"
        },
        "id": "c_f6WcDnNGAv",
        "outputId": "c69c040c-d155-4c03-eb8d-e2e985924d28"
      },
      "execution_count": 58,
      "outputs": [
        {
          "output_type": "stream",
          "name": "stdout",
          "text": [
            "(1000, 394)\n",
            "(451, 394)\n",
            "(1000, 1)\n",
            "(451, 1)\n"
          ]
        }
      ]
    },
    {
      "cell_type": "markdown",
      "source": [
        "The data is split into two sets. Training and Test, with training obtaining 1000 samples and testing containg 451 samples. "
      ],
      "metadata": {
        "id": "GrpVF96IxCF3"
      }
    },
    {
      "cell_type": "code",
      "source": [
        "def costFun(theta,X,Y):\n",
        "    prediction = X.dot(theta)\n",
        "    J = np.square(np.sum(prediction-Y))\n",
        "    return J\n",
        "\n",
        "T = 25000\n",
        "alpha = 0.001\n",
        "cost_history = np.zeros(T)\n",
        "theta = np.zeros([394,1])\n",
        "for i in range(T):\n",
        "    ipend = np.random.randint(1,len(Y))\n",
        "    prediction = ((Y[ipend]-(theta.T.dot(X[ipend])))*X[ipend])\n",
        "    theta = theta + alpha*prediction\n",
        "    value = costFun(theta,X,Y)\n",
        "    cost_history[i] = value\n",
        "\n",
        "print(\"Final Coefficients = \", theta[0])\n",
        "pyplot.plot(cost_history)\n",
        "pyplot.xlabel('Iterations') \n",
        "pyplot.ylabel('CostFunctions')\n",
        "pyplot.title(\"Stochastic Gradient Decent - Alpha = 0.001\")"
      ],
      "metadata": {
        "colab": {
          "base_uri": "https://localhost:8080/",
          "height": 1000
        },
        "id": "L1k-4nwI6iN0",
        "outputId": "ea53a5e2-d6e9-477c-a64d-09371721e1de"
      },
      "execution_count": 59,
      "outputs": [
        {
          "output_type": "stream",
          "name": "stdout",
          "text": [
            "Final Coefficients =  [ 5.59488309e+03  5.45846451e+04  5.44849544e+01  3.78379813e+03\n",
            " -5.85189094e+03 -4.45415923e+03  6.91941557e+03  4.00180120e+03\n",
            "  5.82322694e+03  4.03185033e+03  4.73486951e+03  5.84100930e+03\n",
            "  6.24590730e+03  1.85043929e+03  5.51922388e+03  4.87342477e+03\n",
            "  4.34770513e+03  2.36337102e+03  3.68465664e+03  4.60414449e+03\n",
            "  4.59367497e+03  7.49248112e+03  5.32668602e+03  5.94422913e+03\n",
            "  6.48655818e+03  2.74085843e+03  0.00000000e+00  7.63421762e+03\n",
            "  6.62098337e+03  6.82482964e+03  4.23560604e+03  3.90283504e+03\n",
            "  5.00318154e+03  6.29415151e+03  4.73388891e+03  4.26627264e+03\n",
            "  5.54047501e+03  4.75815268e+03  4.65357647e+03  5.93955792e+03\n",
            "  4.68829669e+03  6.56999579e+03  6.48084699e+03  5.72509829e+03\n",
            "  5.20541622e+03  5.49086676e+03  5.70721847e+03  5.42548912e+03\n",
            "  6.51544101e+03  6.03576533e+03  4.72344703e+03  5.30510889e+03\n",
            "  6.22504874e+03  6.20057503e+03  5.76019121e+03  5.97161056e+03\n",
            "  6.16729441e+03  7.02276412e+03  6.37012853e+03  6.79434000e+03\n",
            "  5.71874327e+03  5.42940885e+03  6.87907546e+03  7.91213382e+03\n",
            "  6.97718552e+03  6.27026997e+03  9.22945855e+03  6.50832439e+03\n",
            "  7.04764385e+03  3.56362046e+03  6.99041668e+03  7.77901089e+03\n",
            "  6.57733271e+03  7.53189254e+03  7.19686151e+03  7.09633057e+03\n",
            "  8.66490162e+03  8.51557319e+03  7.97086667e+03  6.79802480e+03\n",
            "  7.01268065e+03  6.61429488e+03  6.12302203e+03  8.02727822e+03\n",
            "  1.27775137e+04  8.40630174e+03  4.26195300e+03  1.21749987e+04\n",
            "  4.92681601e+03  3.96884001e+03  9.25870392e+03  6.23370619e+03\n",
            "  2.21218920e+03  6.77379467e+03  3.51903628e+03  5.21113119e+03\n",
            "  3.89526226e+03  4.91533999e+03  4.95216858e+03  6.01334325e+03\n",
            "  0.00000000e+00  2.98918226e+03  3.33068547e+03  4.83547425e+03\n",
            "  5.94208670e+03  3.82226080e+03  0.00000000e+00  2.61813762e+03\n",
            "  3.32017317e+03  3.97116640e+03  2.87778041e+03  5.74049518e+03\n",
            "  0.00000000e+00  0.00000000e+00  0.00000000e+00  0.00000000e+00\n",
            "  6.60096980e+03  0.00000000e+00  4.50912917e+03  5.76764685e+03\n",
            "  7.58393112e+03  6.62362331e+03  4.88627166e+03  6.58266392e+03\n",
            "  6.27356057e+03  5.50870154e+03  6.78692769e+03  5.70430750e+03\n",
            "  4.41745574e+03  5.49619408e+03  6.24913984e+03  5.81815446e+03\n",
            "  3.03743661e+03  3.57564750e+03  4.34635691e+03  6.41260893e+03\n",
            "  6.25449953e+03  6.35779263e+03  4.21865110e+03  6.21055319e+03\n",
            "  3.58145553e+03  3.31985998e+03  5.35513556e+03  4.67294167e+03\n",
            "  4.65186875e+03  5.96860836e+03  8.83170742e+03  9.75047242e+03\n",
            "  4.38562001e+03  4.59967076e+03  4.49049544e+03  5.35292683e+03\n",
            "  7.33609019e+03  9.62555799e+03  7.05638562e+03  7.48042817e+03\n",
            "  4.52623579e+03  5.74790545e+03  6.32932419e+03  6.46750678e+03\n",
            "  4.18510782e+03  5.83693056e+03  4.91650985e+03  6.30344360e+03\n",
            "  4.11059615e+03  5.63808389e+03  5.97456420e+03  6.68202311e+03\n",
            "  0.00000000e+00  2.06978649e+03  2.39148535e+03  3.75833310e+03\n",
            "  3.45804836e+03  4.57811887e+03  6.10253487e+03  3.75987237e+03\n",
            "  5.40399726e+03  6.32667461e+03  5.26493670e+03  6.16995820e+03\n",
            "  5.21494017e+03  5.33017714e+03  5.62924345e+03  4.51314641e+03\n",
            "  6.23884007e+03  5.31848143e+03  0.00000000e+00  0.00000000e+00\n",
            "  1.83180901e+03  6.08555357e+03  0.00000000e+00  7.83927557e+03\n",
            "  5.08493054e+03  0.00000000e+00  4.80564661e+03  5.43673121e+03\n",
            "  0.00000000e+00  4.34315276e+03  6.36108053e+03  4.93929138e+03\n",
            "  5.33901361e+03  4.01159378e+03  4.35295238e+03  6.29239529e+03\n",
            "  0.00000000e+00  7.78808902e+03  5.10530873e+03  5.77345278e+03\n",
            "  4.79519488e+03  4.01625523e+03  5.30482227e+03  1.45535950e+03\n",
            "  4.64825394e+03  6.47350542e+03  5.24463519e+03  5.16625024e+03\n",
            "  6.20441759e+03  5.07455895e+03  8.24775988e+03  2.78017223e+03\n",
            "  7.22263306e+03  4.89712694e+03  3.44062880e+03  5.48172507e+03\n",
            "  1.26386884e+03  5.68394486e+03  5.06058075e+03  6.68463804e+03\n",
            "  3.33274466e+03  4.23842944e+03  2.99786259e+03  3.83291592e+03\n",
            "  6.38677512e+03  3.33596588e+03  4.66576760e+03  6.91981005e+03\n",
            "  3.33596588e+03  1.63643482e+03  5.66721418e+03  6.67748082e+03\n",
            "  6.43448304e+03  5.15881093e+03  3.40724915e+03  5.04624432e+03\n",
            "  7.08096211e+03  5.15432080e+03  3.33596588e+03  4.65095423e+03\n",
            "  5.08996546e+03  5.17739696e+03  5.83791152e+03  5.34269070e+03\n",
            "  3.59535132e+03  5.71003155e+03  5.65121675e+03  5.78317748e+03\n",
            "  3.55243999e+03  2.69210278e+03  1.03472056e+03  5.72319248e+03\n",
            "  3.39562617e+03  6.82542331e+03  4.59721482e+03  5.89336573e+03\n",
            "  5.62196746e+03  7.56484533e+03  3.68440045e+03  4.49535793e+03\n",
            "  3.50718971e+03  2.33539568e+03  3.91395659e+03  3.11109959e+03\n",
            "  2.68394104e+03  2.80101607e+03  3.01796478e+03  5.06546783e+03\n",
            "  3.53458321e+03  3.61489139e+03  3.37836733e+03  4.27545035e+03\n",
            "  3.63697106e+03  5.01463096e+03  4.39567106e+03  2.56839924e+03\n",
            "  3.77333631e+03  0.00000000e+00  4.52994235e+03  3.67741462e+03\n",
            "  4.93400543e+03  0.00000000e+00  5.32589062e+03  3.41616836e+03\n",
            "  4.72086429e+03  3.21194317e+03  1.92953133e+03  5.26208056e+03\n",
            "  4.39166741e+03  3.77392527e+03  2.64277960e+03  4.29472317e+03\n",
            "  3.62134595e+03  3.40042634e+03  4.60162085e+03  3.53522711e+03\n",
            "  4.74405326e+03  4.62208221e+03  3.02127143e+03  4.77125027e+03\n",
            "  4.63748237e+03  5.03903487e+03  4.30071659e+03  5.34953441e+03\n",
            "  4.58596004e+03  5.16974893e+03  5.46948908e+03  4.68262860e+03\n",
            "  4.65951303e+03  4.10952504e+03  4.71883566e+03  4.94152331e+03\n",
            "  5.20715370e+03  4.29771056e+03  4.84395603e+03  4.80921212e+03\n",
            "  4.68542525e+03  4.87999180e+03  5.50896261e+03  5.06559360e+03\n",
            "  4.80307716e+03  5.88367505e+03  4.53560398e+03  5.41024969e+03\n",
            "  5.57711236e+03  4.08708675e+03  4.67953795e+03  6.07220865e+03\n",
            "  2.32857357e+03  6.15170315e+03  5.35221074e+03  5.60570405e+03\n",
            "  5.14294876e+03  5.56448547e+03  6.56207568e+03  5.57406379e+03\n",
            "  5.74237729e+03  5.15223740e+03  6.80592170e+03  6.69605372e+03\n",
            "  8.29811306e+03  6.92285624e+03  6.53735220e+03  6.55807619e+03\n",
            "  6.54305606e+03  6.42411469e+03  6.49464450e+03  7.25428451e+03\n",
            "  6.40776888e+03  7.44439853e+03  7.04886329e+03  7.15723235e+03\n",
            "  7.43259115e+03  8.07412641e+03  9.86203970e+03  9.50382239e+03\n",
            "  1.06838723e+04  3.50718971e+03  3.50718971e+03  6.20061742e+03\n",
            "  4.85895234e+03  3.98095584e+03  6.55150648e+03  3.50718971e+03\n",
            "  2.74494701e+03  5.93079933e+03  3.89905442e+03  4.96818544e+03\n",
            "  3.50718971e+03  3.11344893e+03  5.85642604e+03  4.29950667e+03\n",
            "  5.86901051e+03  6.64625515e+03  6.74502452e+03  4.66347835e+03\n",
            "  5.67864531e+03  5.02649987e+03  8.42718569e+03  2.40359642e+03\n",
            "  5.61358324e+03  3.45395575e+03  4.85171626e+03  4.40762482e+03\n",
            "  5.52796241e+03  8.37846830e+03]\n"
          ]
        },
        {
          "output_type": "execute_result",
          "data": {
            "text/plain": [
              "Text(0.5, 1.0, 'Stochastic Gradient Decent - Alpha = 0.001')"
            ]
          },
          "metadata": {},
          "execution_count": 59
        },
        {
          "output_type": "display_data",
          "data": {
            "text/plain": [
              "<Figure size 432x288 with 1 Axes>"
            ],
            "image/png": "[encoded data removed]"
          },
          "metadata": {
            "needs_background": "light"
          }
        }
      ]
    },
    {
      "cell_type": "code",
      "source": [
        "LinearRegPred = theta[0].dot(X_test.T)"
      ],
      "metadata": {
        "id": "J1ifFY7HTnaX"
      },
      "execution_count": 60,
      "outputs": []
    },
    {
      "cell_type": "markdown",
      "source": [
        "Linear Regression is used as the first model in this dataset. Since it's a large dataset, rather then using gradient decent, Stocastic Gradient decent is used in which random samples from the training set would be seleted to train the model to obtain an accurate theta output. We set a step size of 0.001 with 25,000 iterations. Over each iteration theta is constantly updated by the step. We also see that cost function is expontentily decreasing as each iteration updates theta. Our ouput is a array of theta each representing a weight for each feature in a sample. To formulate a prediction with this output the sample is multiplied by theta and price prediction is formulated. "
      ],
      "metadata": {
        "id": "3DTEQWH08eMr"
      }
    },
    {
      "cell_type": "markdown",
      "source": [
        "**KNN Model**"
      ],
      "metadata": {
        "id": "lwRy-6pt1EXE"
      }
    },
    {
      "cell_type": "code",
      "source": [
        "from scipy import stats as s\n",
        "\n",
        "def KNN(test,train):\n",
        "  count = 0\n",
        "  dist = np.zeros((451,1000))\n",
        "  for j in range(451):\n",
        "    for i in range(1000):\n",
        "      sub = X_test[j][:]-X[i][:]\n",
        "      dist[j,i] = np.linalg.norm(sub)\n",
        "  return dist\n",
        "dist = KNN(X_test,X)"
      ],
      "metadata": {
        "id": "W6LTotTE1K22"
      },
      "execution_count": 61,
      "outputs": []
    },
    {
      "cell_type": "code",
      "source": [
        "def predic(k,dist,pre):\n",
        "  count = 0\n",
        "  labels = np.zeros(k)\n",
        "  for i in range(451):\n",
        "    sum = 0\n",
        "    ind = np.argpartition(dist[i],k-1)[:k]\n",
        "    for i in range(0,k):\n",
        "      sum = Y[ind[i]] + sum\n",
        "    sum = sum/k\n",
        "    pre.extend(sum)\n",
        "  return pre\n",
        "  #The k nearest distances are added together and then divided by the k to\n",
        "  #formulate a prediction"
      ],
      "metadata": {
        "id": "Ivvgld5SGYiW"
      },
      "execution_count": 62,
      "outputs": []
    },
    {
      "cell_type": "code",
      "source": [
        "predict = []\n",
        "K1 = predic(2,dist,predict)\n",
        "predict = []\n",
        "K2 = predic(4,dist,predict)\n",
        "predict = []\n",
        "K3 = predic(6,dist,predict)\n",
        "predict = []\n",
        "K4 = predic(8,dist,predict)\n",
        "predict = []\n",
        "K5 = predic(10,dist,predict)\n",
        "predict = []\n",
        "#Predictions are taken of each test sample with different corresponding k values\n",
        "K = 2,3,6,8,10"
      ],
      "metadata": {
        "id": "mCbXPKqNB2mS"
      },
      "execution_count": 63,
      "outputs": []
    },
    {
      "cell_type": "code",
      "source": [
        "xplot = list(range(0, 451))\n",
        "xplot = np.expand_dims(xplot,axis=1)\n",
        "# plot lines\n",
        "pyplot.figure(0)\n",
        "pyplot.plot(xplot, Y_test, label = \"Actual\")\n",
        "pyplot.plot(xplot, K1, label = \"K = 2\")\n",
        "pyplot.plot(xplot, K2, label = \"K = 4\")\n",
        "pyplot.plot(xplot, K3, label = \"K = 6\")\n",
        "pyplot.plot(xplot, K4, label = \"K = 8\")\n",
        "pyplot.plot(xplot, K5, label = \"K = 10\")\n",
        "pyplot.xlabel(\"Sample\")\n",
        "pyplot.ylabel(\"Price\")\n",
        "pyplot.title(\"Actual Price vs Predicted Price over multiple K values\")\n",
        "pyplot.legend()\n",
        "pyplot.show()\n",
        "fig, ax = pyplot.subplots(2, 2, sharex='col', sharey='row')\n",
        "ax[0, 0].set_title('K = 2')\n",
        "ax[0][0].plot(xplot,Y_test,label = \"Actual\")\n",
        "ax[0][0].plot(xplot,K1,label = \"K = 2\")\n",
        "ax[0, 1].set_title('K = 4')\n",
        "ax[0][1].plot(xplot,Y_test,label = \"Actual\")\n",
        "ax[0][1].plot(xplot, K2,label = \"K = 4\",)\n",
        "ax[1, 0].set_title('K = 6')\n",
        "ax[1][0].plot(xplot,Y_test,label = \"Actual\")\n",
        "ax[1][0].plot(xplot, K3,label = \"K = 6\")\n",
        "ax[1, 1].set_title('K = 8')\n",
        "ax[1][1].plot(xplot,Y_test,label = \"Actual\")\n",
        "ax[1][1].plot(xplot, K4,label = \"K = 8\")"
      ],
      "metadata": {
        "colab": {
          "base_uri": "https://localhost:8080/",
          "height": 577
        },
        "id": "ytcrtXpQIB5D",
        "outputId": "84fe9367-a7b1-42cd-f5ad-9ef903a6cd58"
      },
      "execution_count": 64,
      "outputs": [
        {
          "output_type": "display_data",
          "data": {
            "text/plain": [
              "<Figure size 432x288 with 1 Axes>"
            ],
            "image/png": "[encoded data removed]"
          },
          "metadata": {
            "needs_background": "light"
          }
        },
        {
          "output_type": "execute_result",
          "data": {
            "text/plain": [
              "[<matplotlib.lines.Line2D at 0x7fb2a48c9b10>]"
            ]
          },
          "metadata": {},
          "execution_count": 64
        },
        {
          "output_type": "display_data",
          "data": {
            "text/plain": [
              "<Figure size 432x288 with 4 Axes>"
            ],
            "image/png": "[encoded data removed]"
          },
          "metadata": {
            "needs_background": "light"
          }
        }
      ]
    },
    {
      "cell_type": "markdown",
      "source": [
        "KNN is performed as in the second model. Distances are calculated from the test sample to each training samples. Unlike in the previous dataset rather then voting on the label that appeared the most, the summation of the closest neighbors would be taken and then dividing by the amount of neighbors used. Data from K = 2,6,4,8 are taken. All K predicted values are ploted against each other and the actual price values. Then a side by side plot is shown of each K's predicted values compared to the actual sale price individually. From the plots K = 4 seems to closely resemble the actual data, so a value of K = 4 is chosen as the model. "
      ],
      "metadata": {
        "id": "uu7kFT3g8gRr"
      }
    },
    {
      "cell_type": "markdown",
      "source": [
        "# Part E"
      ],
      "metadata": {
        "id": "iQY_WhjO1dhr"
      }
    },
    {
      "cell_type": "code",
      "source": [
        "#Comparision of both models\n",
        "pyplot.figure(0)\n",
        "pyplot.plot(xplot, Y_test, label = \"Actual\")\n",
        "pyplot.plot(xplot, LinearRegPred, label = \"Linear Regression\")\n",
        "pyplot.plot(xplot, K2, label = \"KNN (K = 4)\")\n",
        "pyplot.xlabel(\"Sample\")\n",
        "pyplot.ylabel(\"Price\")\n",
        "pyplot.title(\"Actual Price vs KNN Model vs Linear Regression Model\")\n",
        "pyplot.legend()\n",
        "pyplot.show()\n",
        "pyplot.figure(1)\n",
        "pyplot.plot(xplot, Y_test, label = \"Actual\")\n",
        "pyplot.plot(xplot, LinearRegPred, label = \"Linear Regression\")\n",
        "pyplot.xlabel(\"Sample\")\n",
        "pyplot.ylabel(\"Price\")\n",
        "pyplot.title(\"Actual Price vs Linear Regression Model\")\n",
        "pyplot.legend()\n",
        "pyplot.show()\n",
        "pyplot.figure(2)\n",
        "pyplot.plot(xplot, Y_test, label = \"Actual\")\n",
        "pyplot.plot(xplot, K2, label = \"KNN (K = 4)\")\n",
        "pyplot.xlabel(\"Sample\")\n",
        "pyplot.ylabel(\"Price\")\n",
        "pyplot.title(\"Actual Price vs KNN Model (K = 4)\")\n",
        "pyplot.legend()\n",
        "pyplot.show()"
      ],
      "metadata": {
        "colab": {
          "base_uri": "https://localhost:8080/",
          "height": 851
        },
        "id": "AUV1FKI4Ulwo",
        "outputId": "ffb47620-52a1-49f4-9029-e2b1323f9a5d"
      },
      "execution_count": 65,
      "outputs": [
        {
          "output_type": "display_data",
          "data": {
            "text/plain": [
              "<Figure size 432x288 with 1 Axes>"
            ],
            "image/png": "[encoded data removed]"
          },
          "metadata": {
            "needs_background": "light"
          }
        },
        {
          "output_type": "display_data",
          "data": {
            "text/plain": [
              "<Figure size 432x288 with 1 Axes>"
            ],
            "image/png": "[encoded data removed]"
          },
          "metadata": {
            "needs_background": "light"
          }
        },
        {
          "output_type": "display_data",
          "data": {
            "text/plain": [
              "<Figure size 432x288 with 1 Axes>"
            ],
            "image/png": "[encoded data removed]"
          },
          "metadata": {
            "needs_background": "light"
          }
        }
      ]
    },
    {
      "cell_type": "code",
      "source": [
        "KNNDif = abs(Y_test - K2)\n",
        "LinearDif = abs(Y_test - LinearRegPred)\n",
        "AverageKNN = KNNDif.sum()/451\n",
        "AverageLinear = LinearDif.sum()/451\n",
        "print(\"Average Distance from Actual Price KNN Model:\", AverageKNN)\n",
        "print(\"Average Distance from Actual Price Linear Regression Model:\", AverageLinear)\n",
        "#Histogram\n",
        "fig = pyplot.figure()\n",
        "ax = fig.add_axes([0,0,1,1])\n",
        "model = ['KNN', 'Linear Regression']\n",
        "modelerror = [AverageKNN,AverageLinear]\n",
        "ax.bar(model,modelerror)\n",
        "ax.set_ylabel('Distance')\n",
        "ax.set_title('Distance from Actual Price')\n",
        "pyplot.show()"
      ],
      "metadata": {
        "colab": {
          "base_uri": "https://localhost:8080/",
          "height": 388
        },
        "id": "2Igt6pwWXe6b",
        "outputId": "34308663-eb4d-4699-ae3e-dcb24595697c"
      },
      "execution_count": 66,
      "outputs": [
        {
          "output_type": "stream",
          "name": "stdout",
          "text": [
            "Average Distance from Actual Price KNN Model: 33306661.958980042\n",
            "Average Distance from Actual Price Linear Regression Model: 58986262.08909115\n"
          ]
        },
        {
          "output_type": "display_data",
          "data": {
            "text/plain": [
              "<Figure size 432x288 with 1 Axes>"
            ],
            "image/png": "[encoded data removed]"
          },
          "metadata": {
            "needs_background": "light"
          }
        }
      ]
    },
    {
      "cell_type": "markdown",
      "source": [
        "From the graph it's noted that KNN fits the model better to the actual sales price. The absolute distance is calculated from each point predicted in the model with their corresponding actual sale price. This distance is later divided by the total test samples. We can see that KNN, has a significatnly less avarege distance when compares to the average distance for linear regression. KNN does 62% better when compared to linear regression. Computattionally, linear regression was more taxing. It's running through 25000 randomly selected samples from the training set and constently updatating theta. This is unlike KNN which calauclates the 451000 distance , which is a much more simple task then linear regression. KNN in the long run, does run faster when compared to linear regression. My, final sugesstion for the method that should go into production for the dataset is KNN. "
      ],
      "metadata": {
        "id": "8XA2HpB08iy6"
      }
    }
  ]
}